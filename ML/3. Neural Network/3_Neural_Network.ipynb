{
 "cells": [
  {
   "cell_type": "code",
   "execution_count": 4,
   "metadata": {
    "id": "atw2Xac9I0xl"
   },
   "outputs": [],
   "source": [
    "import pandas as pd\n",
    "from sklearn.model_selection import train_test_split\n",
    "from sklearn.preprocessing import StandardScaler, OneHotEncoder\n",
    "from sklearn.compose import ColumnTransformer\n",
    "from sklearn.metrics import confusion_matrix, accuracy_score\n",
    "from tensorflow.keras.models import Sequential\n",
    "from tensorflow.keras.layers import Dense, Dropout\n",
    "from tensorflow.keras.callbacks import EarlyStopping"
   ]
  },
  {
   "cell_type": "code",
   "execution_count": 5,
   "metadata": {},
   "outputs": [
    {
     "name": "stdout",
     "output_type": "stream",
     "text": [
      "Defaulting to user installation because normal site-packages is not writeable\n",
      "Requirement already satisfied: tensorflow in c:\\users\\vishw\\appdata\\roaming\\python\\python313\\site-packages (2.20.0)\n",
      "Requirement already satisfied: absl-py>=1.0.0 in c:\\users\\vishw\\appdata\\roaming\\python\\python313\\site-packages (from tensorflow) (2.3.1)\n",
      "Requirement already satisfied: astunparse>=1.6.0 in c:\\users\\vishw\\appdata\\roaming\\python\\python313\\site-packages (from tensorflow) (1.6.3)\n",
      "Requirement already satisfied: flatbuffers>=24.3.25 in c:\\users\\vishw\\appdata\\roaming\\python\\python313\\site-packages (from tensorflow) (25.2.10)\n",
      "Requirement already satisfied: gast!=0.5.0,!=0.5.1,!=0.5.2,>=0.2.1 in c:\\users\\vishw\\appdata\\roaming\\python\\python313\\site-packages (from tensorflow) (0.6.0)\n",
      "Requirement already satisfied: google_pasta>=0.1.1 in c:\\users\\vishw\\appdata\\roaming\\python\\python313\\site-packages (from tensorflow) (0.2.0)\n",
      "Requirement already satisfied: libclang>=13.0.0 in c:\\users\\vishw\\appdata\\roaming\\python\\python313\\site-packages (from tensorflow) (18.1.1)\n",
      "Requirement already satisfied: opt_einsum>=2.3.2 in c:\\users\\vishw\\appdata\\roaming\\python\\python313\\site-packages (from tensorflow) (3.4.0)\n",
      "Requirement already satisfied: packaging in c:\\users\\vishw\\appdata\\roaming\\python\\python313\\site-packages (from tensorflow) (24.2)\n",
      "Requirement already satisfied: protobuf>=5.28.0 in c:\\users\\vishw\\appdata\\roaming\\python\\python313\\site-packages (from tensorflow) (6.32.0)\n",
      "Requirement already satisfied: requests<3,>=2.21.0 in c:\\users\\vishw\\appdata\\roaming\\python\\python313\\site-packages (from tensorflow) (2.32.4)\n",
      "Requirement already satisfied: setuptools in c:\\users\\vishw\\appdata\\roaming\\python\\python313\\site-packages (from tensorflow) (78.1.0)\n",
      "Requirement already satisfied: six>=1.12.0 in c:\\users\\vishw\\appdata\\roaming\\python\\python313\\site-packages (from tensorflow) (1.17.0)\n",
      "Requirement already satisfied: termcolor>=1.1.0 in c:\\users\\vishw\\appdata\\roaming\\python\\python313\\site-packages (from tensorflow) (3.1.0)\n",
      "Requirement already satisfied: typing_extensions>=3.6.6 in c:\\users\\vishw\\appdata\\roaming\\python\\python313\\site-packages (from tensorflow) (4.14.1)\n",
      "Requirement already satisfied: wrapt>=1.11.0 in c:\\users\\vishw\\appdata\\roaming\\python\\python313\\site-packages (from tensorflow) (1.17.3)\n",
      "Requirement already satisfied: grpcio<2.0,>=1.24.3 in c:\\users\\vishw\\appdata\\roaming\\python\\python313\\site-packages (from tensorflow) (1.74.0)\n",
      "Requirement already satisfied: tensorboard~=2.20.0 in c:\\users\\vishw\\appdata\\roaming\\python\\python313\\site-packages (from tensorflow) (2.20.0)\n",
      "Requirement already satisfied: keras>=3.10.0 in c:\\users\\vishw\\appdata\\roaming\\python\\python313\\site-packages (from tensorflow) (3.10.0)\n",
      "Requirement already satisfied: numpy>=1.26.0 in c:\\users\\vishw\\appdata\\roaming\\python\\python313\\site-packages (from tensorflow) (2.2.4)\n",
      "Requirement already satisfied: h5py>=3.11.0 in c:\\users\\vishw\\appdata\\roaming\\python\\python313\\site-packages (from tensorflow) (3.14.0)\n",
      "Requirement already satisfied: ml_dtypes<1.0.0,>=0.5.1 in c:\\users\\vishw\\appdata\\roaming\\python\\python313\\site-packages (from tensorflow) (0.5.1)\n",
      "Requirement already satisfied: wheel<1.0,>=0.23.0 in c:\\users\\vishw\\appdata\\roaming\\python\\python313\\site-packages (from astunparse>=1.6.0->tensorflow) (0.45.1)\n",
      "Requirement already satisfied: rich in c:\\users\\vishw\\appdata\\roaming\\python\\python313\\site-packages (from keras>=3.10.0->tensorflow) (14.0.0)\n",
      "Requirement already satisfied: namex in c:\\users\\vishw\\appdata\\roaming\\python\\python313\\site-packages (from keras>=3.10.0->tensorflow) (0.1.0)\n",
      "Requirement already satisfied: optree in c:\\users\\vishw\\appdata\\roaming\\python\\python313\\site-packages (from keras>=3.10.0->tensorflow) (0.16.0)\n",
      "Requirement already satisfied: charset_normalizer<4,>=2 in c:\\users\\vishw\\appdata\\roaming\\python\\python313\\site-packages (from requests<3,>=2.21.0->tensorflow) (3.4.2)\n",
      "Requirement already satisfied: idna<4,>=2.5 in c:\\users\\vishw\\appdata\\roaming\\python\\python313\\site-packages (from requests<3,>=2.21.0->tensorflow) (3.10)\n",
      "Requirement already satisfied: urllib3<3,>=1.21.1 in c:\\users\\vishw\\appdata\\roaming\\python\\python313\\site-packages (from requests<3,>=2.21.0->tensorflow) (2.5.0)\n",
      "Requirement already satisfied: certifi>=2017.4.17 in c:\\users\\vishw\\appdata\\roaming\\python\\python313\\site-packages (from requests<3,>=2.21.0->tensorflow) (2025.7.14)\n",
      "Requirement already satisfied: markdown>=2.6.8 in c:\\users\\vishw\\appdata\\roaming\\python\\python313\\site-packages (from tensorboard~=2.20.0->tensorflow) (3.9)\n",
      "Requirement already satisfied: pillow in c:\\users\\vishw\\appdata\\roaming\\python\\python313\\site-packages (from tensorboard~=2.20.0->tensorflow) (11.1.0)\n",
      "Requirement already satisfied: tensorboard-data-server<0.8.0,>=0.7.0 in c:\\users\\vishw\\appdata\\roaming\\python\\python313\\site-packages (from tensorboard~=2.20.0->tensorflow) (0.7.2)\n",
      "Requirement already satisfied: werkzeug>=1.0.1 in c:\\users\\vishw\\appdata\\roaming\\python\\python313\\site-packages (from tensorboard~=2.20.0->tensorflow) (3.1.3)\n",
      "Requirement already satisfied: MarkupSafe>=2.1.1 in c:\\users\\vishw\\appdata\\roaming\\python\\python313\\site-packages (from werkzeug>=1.0.1->tensorboard~=2.20.0->tensorflow) (3.0.2)\n",
      "Requirement already satisfied: markdown-it-py>=2.2.0 in c:\\users\\vishw\\appdata\\roaming\\python\\python313\\site-packages (from rich->keras>=3.10.0->tensorflow) (3.0.0)\n",
      "Requirement already satisfied: pygments<3.0.0,>=2.13.0 in c:\\users\\vishw\\appdata\\roaming\\python\\python313\\site-packages (from rich->keras>=3.10.0->tensorflow) (2.19.1)\n",
      "Requirement already satisfied: mdurl~=0.1 in c:\\users\\vishw\\appdata\\roaming\\python\\python313\\site-packages (from markdown-it-py>=2.2.0->rich->keras>=3.10.0->tensorflow) (0.1.2)\n",
      "Note: you may need to restart the kernel to use updated packages.\n"
     ]
    },
    {
     "name": "stderr",
     "output_type": "stream",
     "text": [
      "\n",
      "[notice] A new release of pip is available: 25.0.1 -> 25.2\n",
      "[notice] To update, run: python.exe -m pip install --upgrade pip\n"
     ]
    }
   ],
   "source": [
    "pip install tensorflow"
   ]
  },
  {
   "cell_type": "code",
   "execution_count": 6,
   "metadata": {
    "colab": {
     "base_uri": "https://localhost:8080/",
     "height": 302
    },
    "id": "NPfi2q75I0xl",
    "outputId": "1f049900-3b13-433a-fa05-c439e3d9c2de"
   },
   "outputs": [
    {
     "data": {
      "text/html": [
       "<div>\n",
       "<style scoped>\n",
       "    .dataframe tbody tr th:only-of-type {\n",
       "        vertical-align: middle;\n",
       "    }\n",
       "\n",
       "    .dataframe tbody tr th {\n",
       "        vertical-align: top;\n",
       "    }\n",
       "\n",
       "    .dataframe thead th {\n",
       "        text-align: right;\n",
       "    }\n",
       "</style>\n",
       "<table border=\"1\" class=\"dataframe\">\n",
       "  <thead>\n",
       "    <tr style=\"text-align: right;\">\n",
       "      <th></th>\n",
       "      <th>CustomerId</th>\n",
       "      <th>Surname</th>\n",
       "      <th>CreditScore</th>\n",
       "      <th>Geography</th>\n",
       "      <th>Gender</th>\n",
       "      <th>Age</th>\n",
       "      <th>Tenure</th>\n",
       "      <th>Balance</th>\n",
       "      <th>NumOfProducts</th>\n",
       "      <th>HasCrCard</th>\n",
       "      <th>IsActiveMember</th>\n",
       "      <th>EstimatedSalary</th>\n",
       "      <th>Exited</th>\n",
       "    </tr>\n",
       "    <tr>\n",
       "      <th>RowNumber</th>\n",
       "      <th></th>\n",
       "      <th></th>\n",
       "      <th></th>\n",
       "      <th></th>\n",
       "      <th></th>\n",
       "      <th></th>\n",
       "      <th></th>\n",
       "      <th></th>\n",
       "      <th></th>\n",
       "      <th></th>\n",
       "      <th></th>\n",
       "      <th></th>\n",
       "      <th></th>\n",
       "    </tr>\n",
       "  </thead>\n",
       "  <tbody>\n",
       "    <tr>\n",
       "      <th>1</th>\n",
       "      <td>15634602</td>\n",
       "      <td>Hargrave</td>\n",
       "      <td>619</td>\n",
       "      <td>France</td>\n",
       "      <td>Female</td>\n",
       "      <td>42</td>\n",
       "      <td>2</td>\n",
       "      <td>0.00</td>\n",
       "      <td>1</td>\n",
       "      <td>1</td>\n",
       "      <td>1</td>\n",
       "      <td>101348.88</td>\n",
       "      <td>1</td>\n",
       "    </tr>\n",
       "    <tr>\n",
       "      <th>2</th>\n",
       "      <td>15647311</td>\n",
       "      <td>Hill</td>\n",
       "      <td>608</td>\n",
       "      <td>Spain</td>\n",
       "      <td>Female</td>\n",
       "      <td>41</td>\n",
       "      <td>1</td>\n",
       "      <td>83807.86</td>\n",
       "      <td>1</td>\n",
       "      <td>0</td>\n",
       "      <td>1</td>\n",
       "      <td>112542.58</td>\n",
       "      <td>0</td>\n",
       "    </tr>\n",
       "    <tr>\n",
       "      <th>3</th>\n",
       "      <td>15619304</td>\n",
       "      <td>Onio</td>\n",
       "      <td>502</td>\n",
       "      <td>France</td>\n",
       "      <td>Female</td>\n",
       "      <td>42</td>\n",
       "      <td>8</td>\n",
       "      <td>159660.80</td>\n",
       "      <td>3</td>\n",
       "      <td>1</td>\n",
       "      <td>0</td>\n",
       "      <td>113931.57</td>\n",
       "      <td>1</td>\n",
       "    </tr>\n",
       "    <tr>\n",
       "      <th>4</th>\n",
       "      <td>15701354</td>\n",
       "      <td>Boni</td>\n",
       "      <td>699</td>\n",
       "      <td>France</td>\n",
       "      <td>Female</td>\n",
       "      <td>39</td>\n",
       "      <td>1</td>\n",
       "      <td>0.00</td>\n",
       "      <td>2</td>\n",
       "      <td>0</td>\n",
       "      <td>0</td>\n",
       "      <td>93826.63</td>\n",
       "      <td>0</td>\n",
       "    </tr>\n",
       "    <tr>\n",
       "      <th>5</th>\n",
       "      <td>15737888</td>\n",
       "      <td>Mitchell</td>\n",
       "      <td>850</td>\n",
       "      <td>Spain</td>\n",
       "      <td>Female</td>\n",
       "      <td>43</td>\n",
       "      <td>2</td>\n",
       "      <td>125510.82</td>\n",
       "      <td>1</td>\n",
       "      <td>1</td>\n",
       "      <td>1</td>\n",
       "      <td>79084.10</td>\n",
       "      <td>0</td>\n",
       "    </tr>\n",
       "  </tbody>\n",
       "</table>\n",
       "</div>"
      ],
      "text/plain": [
       "           CustomerId   Surname  CreditScore Geography  Gender  Age  Tenure  \\\n",
       "RowNumber                                                                     \n",
       "1            15634602  Hargrave          619    France  Female   42       2   \n",
       "2            15647311      Hill          608     Spain  Female   41       1   \n",
       "3            15619304      Onio          502    France  Female   42       8   \n",
       "4            15701354      Boni          699    France  Female   39       1   \n",
       "5            15737888  Mitchell          850     Spain  Female   43       2   \n",
       "\n",
       "             Balance  NumOfProducts  HasCrCard  IsActiveMember  \\\n",
       "RowNumber                                                        \n",
       "1               0.00              1          1               1   \n",
       "2           83807.86              1          0               1   \n",
       "3          159660.80              3          1               0   \n",
       "4               0.00              2          0               0   \n",
       "5          125510.82              1          1               1   \n",
       "\n",
       "           EstimatedSalary  Exited  \n",
       "RowNumber                           \n",
       "1                101348.88       1  \n",
       "2                112542.58       0  \n",
       "3                113931.57       1  \n",
       "4                 93826.63       0  \n",
       "5                 79084.10       0  "
      ]
     },
     "execution_count": 6,
     "metadata": {},
     "output_type": "execute_result"
    }
   ],
   "source": [
    "dataset = pd.read_csv('Churn_Modelling.csv', index_col = 'RowNumber')\n",
    "dataset.head()"
   ]
  },
  {
   "cell_type": "code",
   "execution_count": 7,
   "metadata": {
    "colab": {
     "base_uri": "https://localhost:8080/"
    },
    "id": "jelFHwknI0xm",
    "outputId": "e8e8af69-44e3-4b72-84cf-e15d6b026a5f"
   },
   "outputs": [
    {
     "name": "stdout",
     "output_type": "stream",
     "text": [
      "['CreditScore', 'Geography', 'Gender', 'Age', 'Tenure', 'Balance', 'NumOfProducts', 'HasCrCard', 'IsActiveMember', 'EstimatedSalary']\n",
      "['Exited']\n"
     ]
    }
   ],
   "source": [
    "#Customer ID and Surname would not be relevant as features\n",
    "X_columns = dataset.columns.tolist()[2:12]\n",
    "Y_columns = dataset.columns.tolist()[-1:]\n",
    "print(X_columns)\n",
    "print(Y_columns)"
   ]
  },
  {
   "cell_type": "code",
   "execution_count": 8,
   "metadata": {
    "id": "_EnXaCYmI0xn"
   },
   "outputs": [],
   "source": [
    "X = dataset[X_columns].values \n",
    "Y = dataset[Y_columns].values"
   ]
  },
  {
   "cell_type": "code",
   "execution_count": 9,
   "metadata": {
    "id": "cjbVx3FRI0xn"
   },
   "outputs": [],
   "source": [
    "#We need to encode categorical variables such as geography and gender\n",
    "from sklearn.preprocessing import LabelEncoder\n",
    "X_column_transformer = LabelEncoder()\n",
    "X[:, 1] = X_column_transformer.fit_transform(X[:, 1])"
   ]
  },
  {
   "cell_type": "code",
   "execution_count": 10,
   "metadata": {
    "id": "tS02t4y9I0xn"
   },
   "outputs": [],
   "source": [
    "#Lets Encode gender now\n",
    "X[:, 2] = X_column_transformer.fit_transform(X[:, 2])"
   ]
  },
  {
   "cell_type": "markdown",
   "metadata": {
    "id": "DKwFc-HWI0xo"
   },
   "source": [
    "We are treating countries with ordinal values(0 < 1 < 2) but they are incomparable.\n",
    "To solve this we can use one hot encoding.\n",
    "We will perform some standardization "
   ]
  },
  {
   "cell_type": "code",
   "execution_count": 11,
   "metadata": {
    "id": "v-bI9UNiI0xo"
   },
   "outputs": [],
   "source": [
    "from sklearn.preprocessing import StandardScaler, OneHotEncoder\n",
    "from sklearn.compose import ColumnTransformer\n",
    "from sklearn.pipeline import Pipeline\n",
    "\n",
    "pipeline = Pipeline(\n",
    "    [\n",
    "        ('Categorizer', ColumnTransformer(\n",
    "            [\n",
    "                (\"Gender Label Encoder\", OneHotEncoder(categories = 'auto', drop = 'first'), [2]),\n",
    "                (\"Geography Label Encoder\", OneHotEncoder(categories = 'auto', drop = 'first'), [1])\n",
    "            ], \n",
    "            remainder = 'passthrough', n_jobs = 1)),\n",
    "        ('Normalizer', StandardScaler())\n",
    "    ]\n",
    ")"
   ]
  },
  {
   "cell_type": "code",
   "execution_count": 12,
   "metadata": {
    "id": "7_TO_-fQI0xp"
   },
   "outputs": [],
   "source": [
    "#Standardize the features\n",
    "X = pipeline.fit_transform(X)"
   ]
  },
  {
   "cell_type": "code",
   "execution_count": 13,
   "metadata": {
    "id": "OJ7VUetiI0xq"
   },
   "outputs": [],
   "source": [
    "#Spilt the data\n",
    "from sklearn.model_selection import train_test_split\n",
    "X_train, X_test, y_train, y_test = train_test_split(X, Y, test_size = 0.2, random_state = 0)"
   ]
  },
  {
   "cell_type": "code",
   "execution_count": 14,
   "metadata": {
    "id": "mX35INUFI0xr"
   },
   "outputs": [],
   "source": [
    "from tensorflow.keras.models import Sequential\n",
    "from tensorflow.keras.layers import Dense, Dropout"
   ]
  },
  {
   "cell_type": "code",
   "execution_count": 15,
   "metadata": {
    "id": "VYIsyqOUI0xs"
   },
   "outputs": [],
   "source": [
    "#Initialize ANN\n",
    "classifier = Sequential()"
   ]
  },
  {
   "cell_type": "code",
   "execution_count": 16,
   "metadata": {
    "id": "i3nH8oOhJcp8"
   },
   "outputs": [
    {
     "name": "stderr",
     "output_type": "stream",
     "text": [
      "C:\\Users\\vishw\\AppData\\Roaming\\Python\\Python313\\site-packages\\keras\\src\\layers\\core\\dense.py:93: UserWarning: Do not pass an `input_shape`/`input_dim` argument to a layer. When using Sequential models, prefer using an `Input(shape)` object as the first layer in the model instead.\n",
      "  super().__init__(activity_regularizer=activity_regularizer, **kwargs)\n"
     ]
    }
   ],
   "source": [
    "#Add input layer and hidden layer\n",
    "classifier.add(Dense(6, activation = 'relu', input_shape = (X_train.shape[1], )))\n",
    "classifier.add(Dropout(rate = 0.1))"
   ]
  },
  {
   "cell_type": "code",
   "execution_count": 17,
   "metadata": {
    "id": "gULE3c-YPvsI"
   },
   "outputs": [],
   "source": [
    "#Add second layer\n",
    "classifier.add(Dense(6, activation = 'relu'))\n",
    "classifier.add(Dropout(rate = 0.1))"
   ]
  },
  {
   "cell_type": "code",
   "execution_count": 18,
   "metadata": {
    "id": "j_XpNLaSP9Qk"
   },
   "outputs": [],
   "source": [
    "#Add output layer\n",
    "classifier.add(Dense(1, activation = 'sigmoid'))"
   ]
  },
  {
   "cell_type": "code",
   "execution_count": 19,
   "metadata": {
    "colab": {
     "base_uri": "https://localhost:8080/"
    },
    "id": "5rodKUhIQUWH",
    "outputId": "a8dd63ea-6662-41f3-a43b-4f3f4567a06d"
   },
   "outputs": [
    {
     "data": {
      "text/html": [
       "<pre style=\"white-space:pre;overflow-x:auto;line-height:normal;font-family:Menlo,'DejaVu Sans Mono',consolas,'Courier New',monospace\"><span style=\"font-weight: bold\">Model: \"sequential\"</span>\n",
       "</pre>\n"
      ],
      "text/plain": [
       "\u001b[1mModel: \"sequential\"\u001b[0m\n"
      ]
     },
     "metadata": {},
     "output_type": "display_data"
    },
    {
     "data": {
      "text/html": [
       "<pre style=\"white-space:pre;overflow-x:auto;line-height:normal;font-family:Menlo,'DejaVu Sans Mono',consolas,'Courier New',monospace\">┏━━━━━━━━━━━━━━━━━━━━━━━━━━━━━━━━━┳━━━━━━━━━━━━━━━━━━━━━━━━┳━━━━━━━━━━━━━━━┓\n",
       "┃<span style=\"font-weight: bold\"> Layer (type)                    </span>┃<span style=\"font-weight: bold\"> Output Shape           </span>┃<span style=\"font-weight: bold\">       Param # </span>┃\n",
       "┡━━━━━━━━━━━━━━━━━━━━━━━━━━━━━━━━━╇━━━━━━━━━━━━━━━━━━━━━━━━╇━━━━━━━━━━━━━━━┩\n",
       "│ dense (<span style=\"color: #0087ff; text-decoration-color: #0087ff\">Dense</span>)                   │ (<span style=\"color: #00d7ff; text-decoration-color: #00d7ff\">None</span>, <span style=\"color: #00af00; text-decoration-color: #00af00\">6</span>)              │            <span style=\"color: #00af00; text-decoration-color: #00af00\">72</span> │\n",
       "├─────────────────────────────────┼────────────────────────┼───────────────┤\n",
       "│ dropout (<span style=\"color: #0087ff; text-decoration-color: #0087ff\">Dropout</span>)               │ (<span style=\"color: #00d7ff; text-decoration-color: #00d7ff\">None</span>, <span style=\"color: #00af00; text-decoration-color: #00af00\">6</span>)              │             <span style=\"color: #00af00; text-decoration-color: #00af00\">0</span> │\n",
       "├─────────────────────────────────┼────────────────────────┼───────────────┤\n",
       "│ dense_1 (<span style=\"color: #0087ff; text-decoration-color: #0087ff\">Dense</span>)                 │ (<span style=\"color: #00d7ff; text-decoration-color: #00d7ff\">None</span>, <span style=\"color: #00af00; text-decoration-color: #00af00\">6</span>)              │            <span style=\"color: #00af00; text-decoration-color: #00af00\">42</span> │\n",
       "├─────────────────────────────────┼────────────────────────┼───────────────┤\n",
       "│ dropout_1 (<span style=\"color: #0087ff; text-decoration-color: #0087ff\">Dropout</span>)             │ (<span style=\"color: #00d7ff; text-decoration-color: #00d7ff\">None</span>, <span style=\"color: #00af00; text-decoration-color: #00af00\">6</span>)              │             <span style=\"color: #00af00; text-decoration-color: #00af00\">0</span> │\n",
       "├─────────────────────────────────┼────────────────────────┼───────────────┤\n",
       "│ dense_2 (<span style=\"color: #0087ff; text-decoration-color: #0087ff\">Dense</span>)                 │ (<span style=\"color: #00d7ff; text-decoration-color: #00d7ff\">None</span>, <span style=\"color: #00af00; text-decoration-color: #00af00\">1</span>)              │             <span style=\"color: #00af00; text-decoration-color: #00af00\">7</span> │\n",
       "└─────────────────────────────────┴────────────────────────┴───────────────┘\n",
       "</pre>\n"
      ],
      "text/plain": [
       "┏━━━━━━━━━━━━━━━━━━━━━━━━━━━━━━━━━┳━━━━━━━━━━━━━━━━━━━━━━━━┳━━━━━━━━━━━━━━━┓\n",
       "┃\u001b[1m \u001b[0m\u001b[1mLayer (type)                   \u001b[0m\u001b[1m \u001b[0m┃\u001b[1m \u001b[0m\u001b[1mOutput Shape          \u001b[0m\u001b[1m \u001b[0m┃\u001b[1m \u001b[0m\u001b[1m      Param #\u001b[0m\u001b[1m \u001b[0m┃\n",
       "┡━━━━━━━━━━━━━━━━━━━━━━━━━━━━━━━━━╇━━━━━━━━━━━━━━━━━━━━━━━━╇━━━━━━━━━━━━━━━┩\n",
       "│ dense (\u001b[38;5;33mDense\u001b[0m)                   │ (\u001b[38;5;45mNone\u001b[0m, \u001b[38;5;34m6\u001b[0m)              │            \u001b[38;5;34m72\u001b[0m │\n",
       "├─────────────────────────────────┼────────────────────────┼───────────────┤\n",
       "│ dropout (\u001b[38;5;33mDropout\u001b[0m)               │ (\u001b[38;5;45mNone\u001b[0m, \u001b[38;5;34m6\u001b[0m)              │             \u001b[38;5;34m0\u001b[0m │\n",
       "├─────────────────────────────────┼────────────────────────┼───────────────┤\n",
       "│ dense_1 (\u001b[38;5;33mDense\u001b[0m)                 │ (\u001b[38;5;45mNone\u001b[0m, \u001b[38;5;34m6\u001b[0m)              │            \u001b[38;5;34m42\u001b[0m │\n",
       "├─────────────────────────────────┼────────────────────────┼───────────────┤\n",
       "│ dropout_1 (\u001b[38;5;33mDropout\u001b[0m)             │ (\u001b[38;5;45mNone\u001b[0m, \u001b[38;5;34m6\u001b[0m)              │             \u001b[38;5;34m0\u001b[0m │\n",
       "├─────────────────────────────────┼────────────────────────┼───────────────┤\n",
       "│ dense_2 (\u001b[38;5;33mDense\u001b[0m)                 │ (\u001b[38;5;45mNone\u001b[0m, \u001b[38;5;34m1\u001b[0m)              │             \u001b[38;5;34m7\u001b[0m │\n",
       "└─────────────────────────────────┴────────────────────────┴───────────────┘\n"
      ]
     },
     "metadata": {},
     "output_type": "display_data"
    },
    {
     "data": {
      "text/html": [
       "<pre style=\"white-space:pre;overflow-x:auto;line-height:normal;font-family:Menlo,'DejaVu Sans Mono',consolas,'Courier New',monospace\"><span style=\"font-weight: bold\"> Total params: </span><span style=\"color: #00af00; text-decoration-color: #00af00\">121</span> (484.00 B)\n",
       "</pre>\n"
      ],
      "text/plain": [
       "\u001b[1m Total params: \u001b[0m\u001b[38;5;34m121\u001b[0m (484.00 B)\n"
      ]
     },
     "metadata": {},
     "output_type": "display_data"
    },
    {
     "data": {
      "text/html": [
       "<pre style=\"white-space:pre;overflow-x:auto;line-height:normal;font-family:Menlo,'DejaVu Sans Mono',consolas,'Courier New',monospace\"><span style=\"font-weight: bold\"> Trainable params: </span><span style=\"color: #00af00; text-decoration-color: #00af00\">121</span> (484.00 B)\n",
       "</pre>\n"
      ],
      "text/plain": [
       "\u001b[1m Trainable params: \u001b[0m\u001b[38;5;34m121\u001b[0m (484.00 B)\n"
      ]
     },
     "metadata": {},
     "output_type": "display_data"
    },
    {
     "data": {
      "text/html": [
       "<pre style=\"white-space:pre;overflow-x:auto;line-height:normal;font-family:Menlo,'DejaVu Sans Mono',consolas,'Courier New',monospace\"><span style=\"font-weight: bold\"> Non-trainable params: </span><span style=\"color: #00af00; text-decoration-color: #00af00\">0</span> (0.00 B)\n",
       "</pre>\n"
      ],
      "text/plain": [
       "\u001b[1m Non-trainable params: \u001b[0m\u001b[38;5;34m0\u001b[0m (0.00 B)\n"
      ]
     },
     "metadata": {},
     "output_type": "display_data"
    }
   ],
   "source": [
    "#Let us take a look at our network\n",
    "classifier.summary()"
   ]
  },
  {
   "cell_type": "code",
   "execution_count": 20,
   "metadata": {
    "id": "XfHGyyviSXed"
   },
   "outputs": [],
   "source": [
    "#Optimize the weights\n",
    "classifier.compile(optimizer = 'adam', loss = 'binary_crossentropy', metrics = ['accuracy'])"
   ]
  },
  {
   "cell_type": "code",
   "execution_count": 21,
   "metadata": {
    "colab": {
     "base_uri": "https://localhost:8080/"
    },
    "id": "7px7qzJQVhan",
    "outputId": "09d47fa7-684c-424c-f144-e86492bcfa24"
   },
   "outputs": [
    {
     "name": "stdout",
     "output_type": "stream",
     "text": [
      "Epoch 1/200\n",
      "225/225 - 2s - 10ms/step - accuracy: 0.6815 - loss: 0.6272 - val_accuracy: 0.7950 - val_loss: 0.5192\n",
      "Epoch 2/200\n",
      "225/225 - 1s - 4ms/step - accuracy: 0.7799 - loss: 0.5070 - val_accuracy: 0.7950 - val_loss: 0.4569\n",
      "Epoch 3/200\n",
      "225/225 - 1s - 3ms/step - accuracy: 0.7925 - loss: 0.4754 - val_accuracy: 0.7950 - val_loss: 0.4329\n",
      "Epoch 4/200\n",
      "225/225 - 1s - 3ms/step - accuracy: 0.7949 - loss: 0.4567 - val_accuracy: 0.7950 - val_loss: 0.4223\n",
      "Epoch 5/200\n",
      "225/225 - 1s - 3ms/step - accuracy: 0.7950 - loss: 0.4516 - val_accuracy: 0.7950 - val_loss: 0.4173\n",
      "Epoch 6/200\n",
      "225/225 - 1s - 3ms/step - accuracy: 0.7950 - loss: 0.4438 - val_accuracy: 0.7950 - val_loss: 0.4142\n",
      "Epoch 7/200\n",
      "225/225 - 1s - 2ms/step - accuracy: 0.7958 - loss: 0.4396 - val_accuracy: 0.7950 - val_loss: 0.4117\n",
      "Epoch 8/200\n",
      "225/225 - 0s - 2ms/step - accuracy: 0.7965 - loss: 0.4349 - val_accuracy: 0.7950 - val_loss: 0.4086\n",
      "Epoch 9/200\n",
      "225/225 - 1s - 2ms/step - accuracy: 0.7993 - loss: 0.4360 - val_accuracy: 0.8012 - val_loss: 0.4053\n",
      "Epoch 10/200\n",
      "225/225 - 1s - 2ms/step - accuracy: 0.8006 - loss: 0.4304 - val_accuracy: 0.8138 - val_loss: 0.4035\n",
      "Epoch 11/200\n",
      "225/225 - 1s - 2ms/step - accuracy: 0.8057 - loss: 0.4324 - val_accuracy: 0.8175 - val_loss: 0.3992\n",
      "Epoch 12/200\n",
      "225/225 - 1s - 2ms/step - accuracy: 0.8051 - loss: 0.4299 - val_accuracy: 0.8188 - val_loss: 0.3966\n",
      "Epoch 13/200\n",
      "225/225 - 1s - 2ms/step - accuracy: 0.8056 - loss: 0.4313 - val_accuracy: 0.8250 - val_loss: 0.3942\n",
      "Epoch 14/200\n",
      "225/225 - 0s - 2ms/step - accuracy: 0.8101 - loss: 0.4234 - val_accuracy: 0.8300 - val_loss: 0.3905\n",
      "Epoch 15/200\n",
      "225/225 - 1s - 2ms/step - accuracy: 0.8118 - loss: 0.4222 - val_accuracy: 0.8350 - val_loss: 0.3855\n",
      "Epoch 16/200\n",
      "225/225 - 1s - 3ms/step - accuracy: 0.8108 - loss: 0.4221 - val_accuracy: 0.8363 - val_loss: 0.3829\n",
      "Epoch 17/200\n",
      "225/225 - 1s - 3ms/step - accuracy: 0.8117 - loss: 0.4229 - val_accuracy: 0.8313 - val_loss: 0.3802\n",
      "Epoch 18/200\n",
      "225/225 - 1s - 3ms/step - accuracy: 0.8132 - loss: 0.4163 - val_accuracy: 0.8325 - val_loss: 0.3762\n",
      "Epoch 19/200\n",
      "225/225 - 1s - 3ms/step - accuracy: 0.8139 - loss: 0.4164 - val_accuracy: 0.8375 - val_loss: 0.3736\n",
      "Epoch 20/200\n",
      "225/225 - 1s - 3ms/step - accuracy: 0.8154 - loss: 0.4148 - val_accuracy: 0.8388 - val_loss: 0.3713\n",
      "Epoch 21/200\n",
      "225/225 - 1s - 3ms/step - accuracy: 0.8179 - loss: 0.4152 - val_accuracy: 0.8388 - val_loss: 0.3689\n",
      "Epoch 22/200\n",
      "225/225 - 1s - 3ms/step - accuracy: 0.8214 - loss: 0.4093 - val_accuracy: 0.8438 - val_loss: 0.3666\n",
      "Epoch 23/200\n",
      "225/225 - 1s - 3ms/step - accuracy: 0.8242 - loss: 0.4038 - val_accuracy: 0.8413 - val_loss: 0.3632\n",
      "Epoch 24/200\n",
      "225/225 - 1s - 3ms/step - accuracy: 0.8246 - loss: 0.4076 - val_accuracy: 0.8363 - val_loss: 0.3619\n",
      "Epoch 25/200\n",
      "225/225 - 1s - 4ms/step - accuracy: 0.8215 - loss: 0.4052 - val_accuracy: 0.8375 - val_loss: 0.3606\n",
      "Epoch 26/200\n",
      "225/225 - 1s - 3ms/step - accuracy: 0.8283 - loss: 0.4057 - val_accuracy: 0.8375 - val_loss: 0.3586\n",
      "Epoch 27/200\n",
      "225/225 - 1s - 3ms/step - accuracy: 0.8261 - loss: 0.4002 - val_accuracy: 0.8400 - val_loss: 0.3564\n",
      "Epoch 28/200\n",
      "225/225 - 1s - 3ms/step - accuracy: 0.8306 - loss: 0.3986 - val_accuracy: 0.8462 - val_loss: 0.3539\n",
      "Epoch 29/200\n",
      "225/225 - 1s - 3ms/step - accuracy: 0.8299 - loss: 0.3987 - val_accuracy: 0.8475 - val_loss: 0.3540\n",
      "Epoch 30/200\n",
      "225/225 - 1s - 4ms/step - accuracy: 0.8315 - loss: 0.3985 - val_accuracy: 0.8512 - val_loss: 0.3525\n",
      "Epoch 31/200\n",
      "225/225 - 1s - 6ms/step - accuracy: 0.8310 - loss: 0.4034 - val_accuracy: 0.8475 - val_loss: 0.3535\n",
      "Epoch 32/200\n",
      "225/225 - 1s - 5ms/step - accuracy: 0.8299 - loss: 0.3956 - val_accuracy: 0.8462 - val_loss: 0.3516\n",
      "Epoch 33/200\n",
      "225/225 - 1s - 6ms/step - accuracy: 0.8297 - loss: 0.3974 - val_accuracy: 0.8525 - val_loss: 0.3511\n",
      "Epoch 34/200\n",
      "225/225 - 1s - 6ms/step - accuracy: 0.8371 - loss: 0.3914 - val_accuracy: 0.8462 - val_loss: 0.3490\n",
      "Epoch 35/200\n",
      "225/225 - 1s - 5ms/step - accuracy: 0.8344 - loss: 0.3951 - val_accuracy: 0.8475 - val_loss: 0.3497\n",
      "Epoch 36/200\n",
      "225/225 - 1s - 6ms/step - accuracy: 0.8335 - loss: 0.3959 - val_accuracy: 0.8487 - val_loss: 0.3486\n",
      "Epoch 37/200\n",
      "225/225 - 3s - 12ms/step - accuracy: 0.8371 - loss: 0.3927 - val_accuracy: 0.8475 - val_loss: 0.3492\n",
      "Epoch 38/200\n",
      "225/225 - 1s - 6ms/step - accuracy: 0.8358 - loss: 0.3900 - val_accuracy: 0.8500 - val_loss: 0.3485\n",
      "Epoch 39/200\n",
      "225/225 - 1s - 6ms/step - accuracy: 0.8329 - loss: 0.3882 - val_accuracy: 0.8500 - val_loss: 0.3470\n",
      "Epoch 40/200\n",
      "225/225 - 1s - 6ms/step - accuracy: 0.8381 - loss: 0.3896 - val_accuracy: 0.8512 - val_loss: 0.3470\n",
      "Epoch 41/200\n",
      "225/225 - 2s - 7ms/step - accuracy: 0.8364 - loss: 0.3866 - val_accuracy: 0.8537 - val_loss: 0.3463\n",
      "Epoch 42/200\n",
      "225/225 - 1s - 6ms/step - accuracy: 0.8292 - loss: 0.3978 - val_accuracy: 0.8487 - val_loss: 0.3483\n",
      "Epoch 43/200\n",
      "225/225 - 1s - 5ms/step - accuracy: 0.8361 - loss: 0.3889 - val_accuracy: 0.8475 - val_loss: 0.3468\n",
      "Epoch 44/200\n",
      "225/225 - 1s - 5ms/step - accuracy: 0.8367 - loss: 0.3853 - val_accuracy: 0.8475 - val_loss: 0.3471\n",
      "Epoch 45/200\n",
      "225/225 - 1s - 6ms/step - accuracy: 0.8344 - loss: 0.3880 - val_accuracy: 0.8487 - val_loss: 0.3457\n",
      "Epoch 46/200\n",
      "225/225 - 1s - 6ms/step - accuracy: 0.8368 - loss: 0.3846 - val_accuracy: 0.8500 - val_loss: 0.3452\n",
      "Epoch 47/200\n",
      "225/225 - 1s - 6ms/step - accuracy: 0.8376 - loss: 0.3864 - val_accuracy: 0.8512 - val_loss: 0.3459\n",
      "Epoch 48/200\n",
      "225/225 - 1s - 6ms/step - accuracy: 0.8368 - loss: 0.3859 - val_accuracy: 0.8525 - val_loss: 0.3457\n",
      "Epoch 49/200\n",
      "225/225 - 1s - 6ms/step - accuracy: 0.8340 - loss: 0.3900 - val_accuracy: 0.8500 - val_loss: 0.3456\n",
      "Epoch 50/200\n",
      "225/225 - 3s - 12ms/step - accuracy: 0.8342 - loss: 0.3916 - val_accuracy: 0.8487 - val_loss: 0.3454\n",
      "Epoch 51/200\n",
      "225/225 - 1s - 6ms/step - accuracy: 0.8383 - loss: 0.3857 - val_accuracy: 0.8512 - val_loss: 0.3456\n",
      "Epoch 52/200\n",
      "225/225 - 1s - 6ms/step - accuracy: 0.8388 - loss: 0.3818 - val_accuracy: 0.8537 - val_loss: 0.3429\n",
      "Epoch 53/200\n",
      "225/225 - 1s - 6ms/step - accuracy: 0.8399 - loss: 0.3839 - val_accuracy: 0.8575 - val_loss: 0.3434\n",
      "Epoch 54/200\n",
      "225/225 - 2s - 7ms/step - accuracy: 0.8403 - loss: 0.3851 - val_accuracy: 0.8587 - val_loss: 0.3436\n",
      "Epoch 55/200\n",
      "225/225 - 1s - 6ms/step - accuracy: 0.8426 - loss: 0.3815 - val_accuracy: 0.8550 - val_loss: 0.3427\n",
      "Epoch 56/200\n",
      "225/225 - 1s - 6ms/step - accuracy: 0.8394 - loss: 0.3776 - val_accuracy: 0.8537 - val_loss: 0.3426\n",
      "Epoch 57/200\n",
      "225/225 - 1s - 6ms/step - accuracy: 0.8397 - loss: 0.3785 - val_accuracy: 0.8575 - val_loss: 0.3395\n",
      "Epoch 58/200\n",
      "225/225 - 1s - 5ms/step - accuracy: 0.8431 - loss: 0.3765 - val_accuracy: 0.8550 - val_loss: 0.3380\n",
      "Epoch 59/200\n",
      "225/225 - 2s - 7ms/step - accuracy: 0.8417 - loss: 0.3755 - val_accuracy: 0.8537 - val_loss: 0.3381\n",
      "Epoch 60/200\n",
      "225/225 - 1s - 7ms/step - accuracy: 0.8424 - loss: 0.3763 - val_accuracy: 0.8537 - val_loss: 0.3385\n",
      "Epoch 61/200\n",
      "225/225 - 1s - 6ms/step - accuracy: 0.8496 - loss: 0.3721 - val_accuracy: 0.8550 - val_loss: 0.3349\n",
      "Epoch 62/200\n",
      "225/225 - 1s - 6ms/step - accuracy: 0.8453 - loss: 0.3683 - val_accuracy: 0.8562 - val_loss: 0.3329\n",
      "Epoch 63/200\n",
      "225/225 - 1s - 6ms/step - accuracy: 0.8458 - loss: 0.3700 - val_accuracy: 0.8587 - val_loss: 0.3333\n",
      "Epoch 64/200\n",
      "225/225 - 1s - 6ms/step - accuracy: 0.8468 - loss: 0.3676 - val_accuracy: 0.8575 - val_loss: 0.3333\n",
      "Epoch 65/200\n",
      "225/225 - 1s - 6ms/step - accuracy: 0.8476 - loss: 0.3670 - val_accuracy: 0.8625 - val_loss: 0.3300\n",
      "Epoch 66/200\n",
      "225/225 - 1s - 5ms/step - accuracy: 0.8506 - loss: 0.3690 - val_accuracy: 0.8612 - val_loss: 0.3319\n",
      "Epoch 67/200\n",
      "225/225 - 1s - 5ms/step - accuracy: 0.8417 - loss: 0.3711 - val_accuracy: 0.8575 - val_loss: 0.3334\n",
      "Epoch 68/200\n",
      "225/225 - 1s - 6ms/step - accuracy: 0.8447 - loss: 0.3674 - val_accuracy: 0.8612 - val_loss: 0.3318\n",
      "Epoch 69/200\n",
      "225/225 - 1s - 6ms/step - accuracy: 0.8472 - loss: 0.3633 - val_accuracy: 0.8575 - val_loss: 0.3327\n",
      "Epoch 70/200\n",
      "225/225 - 1s - 6ms/step - accuracy: 0.8456 - loss: 0.3649 - val_accuracy: 0.8625 - val_loss: 0.3296\n",
      "Epoch 71/200\n",
      "225/225 - 1s - 6ms/step - accuracy: 0.8464 - loss: 0.3666 - val_accuracy: 0.8612 - val_loss: 0.3313\n",
      "Epoch 72/200\n",
      "225/225 - 1s - 6ms/step - accuracy: 0.8467 - loss: 0.3661 - val_accuracy: 0.8650 - val_loss: 0.3295\n",
      "Epoch 73/200\n",
      "225/225 - 1s - 6ms/step - accuracy: 0.8444 - loss: 0.3702 - val_accuracy: 0.8625 - val_loss: 0.3296\n",
      "Epoch 74/200\n",
      "225/225 - 1s - 6ms/step - accuracy: 0.8476 - loss: 0.3665 - val_accuracy: 0.8625 - val_loss: 0.3291\n",
      "Epoch 75/200\n",
      "225/225 - 1s - 6ms/step - accuracy: 0.8481 - loss: 0.3688 - val_accuracy: 0.8637 - val_loss: 0.3294\n",
      "Epoch 76/200\n",
      "225/225 - 1s - 6ms/step - accuracy: 0.8474 - loss: 0.3640 - val_accuracy: 0.8662 - val_loss: 0.3279\n",
      "Epoch 77/200\n",
      "225/225 - 1s - 6ms/step - accuracy: 0.8439 - loss: 0.3681 - val_accuracy: 0.8600 - val_loss: 0.3320\n",
      "Epoch 78/200\n",
      "225/225 - 1s - 6ms/step - accuracy: 0.8511 - loss: 0.3644 - val_accuracy: 0.8662 - val_loss: 0.3292\n",
      "Epoch 79/200\n",
      "225/225 - 1s - 5ms/step - accuracy: 0.8510 - loss: 0.3673 - val_accuracy: 0.8625 - val_loss: 0.3294\n",
      "Epoch 80/200\n",
      "225/225 - 1s - 6ms/step - accuracy: 0.8494 - loss: 0.3625 - val_accuracy: 0.8650 - val_loss: 0.3274\n",
      "Epoch 81/200\n",
      "225/225 - 1s - 6ms/step - accuracy: 0.8471 - loss: 0.3676 - val_accuracy: 0.8675 - val_loss: 0.3289\n",
      "Epoch 82/200\n",
      "225/225 - 1s - 6ms/step - accuracy: 0.8472 - loss: 0.3627 - val_accuracy: 0.8625 - val_loss: 0.3282\n",
      "Epoch 83/200\n",
      "225/225 - 1s - 6ms/step - accuracy: 0.8499 - loss: 0.3671 - val_accuracy: 0.8637 - val_loss: 0.3305\n",
      "Epoch 84/200\n",
      "225/225 - 1s - 6ms/step - accuracy: 0.8504 - loss: 0.3582 - val_accuracy: 0.8650 - val_loss: 0.3278\n",
      "Epoch 85/200\n",
      "225/225 - 1s - 6ms/step - accuracy: 0.8482 - loss: 0.3704 - val_accuracy: 0.8600 - val_loss: 0.3325\n",
      "Epoch 86/200\n",
      "225/225 - 1s - 6ms/step - accuracy: 0.8492 - loss: 0.3694 - val_accuracy: 0.8675 - val_loss: 0.3280\n",
      "Epoch 87/200\n",
      "225/225 - 1s - 6ms/step - accuracy: 0.8479 - loss: 0.3646 - val_accuracy: 0.8687 - val_loss: 0.3294\n",
      "Epoch 88/200\n",
      "225/225 - 1s - 6ms/step - accuracy: 0.8489 - loss: 0.3645 - val_accuracy: 0.8687 - val_loss: 0.3282\n",
      "Epoch 89/200\n",
      "225/225 - 1s - 6ms/step - accuracy: 0.8490 - loss: 0.3670 - val_accuracy: 0.8650 - val_loss: 0.3281\n",
      "Epoch 90/200\n",
      "225/225 - 1s - 6ms/step - accuracy: 0.8533 - loss: 0.3593 - val_accuracy: 0.8675 - val_loss: 0.3276\n",
      "Epoch 91/200\n",
      "225/225 - 1s - 6ms/step - accuracy: 0.8518 - loss: 0.3637 - val_accuracy: 0.8625 - val_loss: 0.3288\n",
      "Epoch 92/200\n",
      "225/225 - 1s - 6ms/step - accuracy: 0.8483 - loss: 0.3645 - val_accuracy: 0.8662 - val_loss: 0.3280\n",
      "Epoch 93/200\n",
      "225/225 - 1s - 6ms/step - accuracy: 0.8524 - loss: 0.3627 - val_accuracy: 0.8687 - val_loss: 0.3266\n",
      "Epoch 94/200\n",
      "225/225 - 2s - 7ms/step - accuracy: 0.8503 - loss: 0.3611 - val_accuracy: 0.8662 - val_loss: 0.3268\n",
      "Epoch 95/200\n",
      "225/225 - 2s - 7ms/step - accuracy: 0.8519 - loss: 0.3621 - val_accuracy: 0.8637 - val_loss: 0.3268\n",
      "Epoch 96/200\n",
      "225/225 - 1s - 6ms/step - accuracy: 0.8519 - loss: 0.3610 - val_accuracy: 0.8700 - val_loss: 0.3254\n",
      "Epoch 97/200\n",
      "225/225 - 1s - 6ms/step - accuracy: 0.8510 - loss: 0.3656 - val_accuracy: 0.8637 - val_loss: 0.3290\n",
      "Epoch 98/200\n",
      "225/225 - 1s - 6ms/step - accuracy: 0.8503 - loss: 0.3612 - val_accuracy: 0.8650 - val_loss: 0.3283\n",
      "Epoch 99/200\n",
      "225/225 - 2s - 7ms/step - accuracy: 0.8497 - loss: 0.3609 - val_accuracy: 0.8687 - val_loss: 0.3278\n",
      "Epoch 100/200\n",
      "225/225 - 1s - 6ms/step - accuracy: 0.8532 - loss: 0.3582 - val_accuracy: 0.8662 - val_loss: 0.3270\n",
      "Epoch 101/200\n",
      "225/225 - 1s - 6ms/step - accuracy: 0.8518 - loss: 0.3600 - val_accuracy: 0.8675 - val_loss: 0.3269\n",
      "Epoch 102/200\n",
      "225/225 - 3s - 11ms/step - accuracy: 0.8551 - loss: 0.3616 - val_accuracy: 0.8675 - val_loss: 0.3272\n",
      "Epoch 103/200\n",
      "225/225 - 1s - 6ms/step - accuracy: 0.8524 - loss: 0.3570 - val_accuracy: 0.8712 - val_loss: 0.3244\n",
      "Epoch 104/200\n",
      "225/225 - 1s - 5ms/step - accuracy: 0.8525 - loss: 0.3576 - val_accuracy: 0.8662 - val_loss: 0.3260\n",
      "Epoch 105/200\n",
      "225/225 - 1s - 6ms/step - accuracy: 0.8529 - loss: 0.3615 - val_accuracy: 0.8675 - val_loss: 0.3262\n",
      "Epoch 106/200\n",
      "225/225 - 1s - 6ms/step - accuracy: 0.8508 - loss: 0.3617 - val_accuracy: 0.8675 - val_loss: 0.3271\n",
      "Epoch 107/200\n",
      "225/225 - 1s - 6ms/step - accuracy: 0.8487 - loss: 0.3624 - val_accuracy: 0.8662 - val_loss: 0.3272\n",
      "Epoch 108/200\n",
      "225/225 - 3s - 11ms/step - accuracy: 0.8468 - loss: 0.3596 - val_accuracy: 0.8637 - val_loss: 0.3274\n",
      "Epoch 109/200\n",
      "225/225 - 1s - 6ms/step - accuracy: 0.8497 - loss: 0.3637 - val_accuracy: 0.8650 - val_loss: 0.3268\n",
      "Epoch 110/200\n",
      "225/225 - 1s - 6ms/step - accuracy: 0.8528 - loss: 0.3603 - val_accuracy: 0.8625 - val_loss: 0.3266\n",
      "Epoch 111/200\n",
      "225/225 - 3s - 11ms/step - accuracy: 0.8515 - loss: 0.3608 - val_accuracy: 0.8637 - val_loss: 0.3275\n",
      "Epoch 112/200\n",
      "225/225 - 1s - 6ms/step - accuracy: 0.8482 - loss: 0.3646 - val_accuracy: 0.8650 - val_loss: 0.3298\n",
      "Epoch 113/200\n",
      "225/225 - 2s - 7ms/step - accuracy: 0.8522 - loss: 0.3594 - val_accuracy: 0.8637 - val_loss: 0.3294\n",
      "Epoch 114/200\n",
      "225/225 - 1s - 7ms/step - accuracy: 0.8490 - loss: 0.3639 - val_accuracy: 0.8650 - val_loss: 0.3292\n",
      "Epoch 115/200\n",
      "225/225 - 1s - 6ms/step - accuracy: 0.8517 - loss: 0.3616 - val_accuracy: 0.8687 - val_loss: 0.3266\n",
      "Epoch 116/200\n",
      "225/225 - 1s - 6ms/step - accuracy: 0.8500 - loss: 0.3637 - val_accuracy: 0.8612 - val_loss: 0.3280\n",
      "Epoch 117/200\n",
      "225/225 - 1s - 6ms/step - accuracy: 0.8499 - loss: 0.3646 - val_accuracy: 0.8650 - val_loss: 0.3282\n",
      "Epoch 118/200\n",
      "225/225 - 1s - 6ms/step - accuracy: 0.8512 - loss: 0.3603 - val_accuracy: 0.8675 - val_loss: 0.3274\n",
      "Epoch 119/200\n",
      "225/225 - 1s - 6ms/step - accuracy: 0.8515 - loss: 0.3593 - val_accuracy: 0.8625 - val_loss: 0.3280\n",
      "Epoch 120/200\n",
      "225/225 - 3s - 11ms/step - accuracy: 0.8522 - loss: 0.3623 - val_accuracy: 0.8687 - val_loss: 0.3266\n",
      "Epoch 121/200\n",
      "225/225 - 1s - 6ms/step - accuracy: 0.8506 - loss: 0.3659 - val_accuracy: 0.8662 - val_loss: 0.3271\n",
      "Epoch 122/200\n",
      "225/225 - 1s - 5ms/step - accuracy: 0.8517 - loss: 0.3614 - val_accuracy: 0.8687 - val_loss: 0.3269\n",
      "Epoch 123/200\n",
      "225/225 - 1s - 6ms/step - accuracy: 0.8512 - loss: 0.3577 - val_accuracy: 0.8625 - val_loss: 0.3284\n",
      "Epoch 124/200\n",
      "225/225 - 3s - 12ms/step - accuracy: 0.8532 - loss: 0.3557 - val_accuracy: 0.8725 - val_loss: 0.3260\n",
      "Epoch 125/200\n",
      "225/225 - 1s - 6ms/step - accuracy: 0.8514 - loss: 0.3597 - val_accuracy: 0.8662 - val_loss: 0.3259\n",
      "Epoch 126/200\n",
      "225/225 - 1s - 6ms/step - accuracy: 0.8478 - loss: 0.3625 - val_accuracy: 0.8687 - val_loss: 0.3259\n",
      "Epoch 127/200\n",
      "225/225 - 1s - 6ms/step - accuracy: 0.8482 - loss: 0.3635 - val_accuracy: 0.8687 - val_loss: 0.3266\n",
      "Epoch 128/200\n",
      "225/225 - 1s - 6ms/step - accuracy: 0.8518 - loss: 0.3591 - val_accuracy: 0.8687 - val_loss: 0.3270\n",
      "Epoch 129/200\n",
      "225/225 - 2s - 7ms/step - accuracy: 0.8525 - loss: 0.3586 - val_accuracy: 0.8675 - val_loss: 0.3270\n",
      "Epoch 130/200\n",
      "225/225 - 1s - 6ms/step - accuracy: 0.8532 - loss: 0.3591 - val_accuracy: 0.8737 - val_loss: 0.3269\n",
      "Epoch 131/200\n",
      "225/225 - 1s - 6ms/step - accuracy: 0.8524 - loss: 0.3597 - val_accuracy: 0.8687 - val_loss: 0.3265\n",
      "Epoch 132/200\n",
      "225/225 - 1s - 5ms/step - accuracy: 0.8493 - loss: 0.3603 - val_accuracy: 0.8687 - val_loss: 0.3267\n",
      "Epoch 133/200\n",
      "225/225 - 1s - 6ms/step - accuracy: 0.8528 - loss: 0.3626 - val_accuracy: 0.8662 - val_loss: 0.3295\n",
      "Epoch 134/200\n",
      "225/225 - 1s - 6ms/step - accuracy: 0.8508 - loss: 0.3606 - val_accuracy: 0.8675 - val_loss: 0.3269\n",
      "Epoch 135/200\n",
      "225/225 - 1s - 5ms/step - accuracy: 0.8469 - loss: 0.3623 - val_accuracy: 0.8637 - val_loss: 0.3284\n",
      "Epoch 136/200\n",
      "225/225 - 1s - 6ms/step - accuracy: 0.8556 - loss: 0.3591 - val_accuracy: 0.8687 - val_loss: 0.3272\n",
      "Epoch 137/200\n",
      "225/225 - 1s - 6ms/step - accuracy: 0.8519 - loss: 0.3623 - val_accuracy: 0.8687 - val_loss: 0.3269\n",
      "Epoch 138/200\n",
      "225/225 - 1s - 6ms/step - accuracy: 0.8489 - loss: 0.3624 - val_accuracy: 0.8687 - val_loss: 0.3262\n",
      "Epoch 139/200\n",
      "225/225 - 2s - 7ms/step - accuracy: 0.8511 - loss: 0.3606 - val_accuracy: 0.8700 - val_loss: 0.3270\n",
      "Epoch 140/200\n",
      "225/225 - 2s - 8ms/step - accuracy: 0.8504 - loss: 0.3591 - val_accuracy: 0.8637 - val_loss: 0.3293\n",
      "Epoch 141/200\n",
      "225/225 - 2s - 7ms/step - accuracy: 0.8522 - loss: 0.3577 - val_accuracy: 0.8675 - val_loss: 0.3272\n",
      "Epoch 142/200\n",
      "225/225 - 1s - 6ms/step - accuracy: 0.8507 - loss: 0.3594 - val_accuracy: 0.8687 - val_loss: 0.3259\n",
      "Epoch 143/200\n",
      "225/225 - 1s - 4ms/step - accuracy: 0.8522 - loss: 0.3576 - val_accuracy: 0.8687 - val_loss: 0.3257\n",
      "Epoch 144/200\n",
      "225/225 - 1s - 4ms/step - accuracy: 0.8483 - loss: 0.3629 - val_accuracy: 0.8712 - val_loss: 0.3256\n",
      "Epoch 145/200\n",
      "225/225 - 1s - 3ms/step - accuracy: 0.8510 - loss: 0.3585 - val_accuracy: 0.8687 - val_loss: 0.3275\n",
      "Epoch 146/200\n",
      "225/225 - 1s - 3ms/step - accuracy: 0.8507 - loss: 0.3610 - val_accuracy: 0.8712 - val_loss: 0.3262\n",
      "Epoch 147/200\n",
      "225/225 - 1s - 3ms/step - accuracy: 0.8518 - loss: 0.3609 - val_accuracy: 0.8750 - val_loss: 0.3257\n",
      "Epoch 148/200\n",
      "225/225 - 1s - 5ms/step - accuracy: 0.8507 - loss: 0.3620 - val_accuracy: 0.8700 - val_loss: 0.3254\n",
      "Epoch 149/200\n",
      "225/225 - 1s - 6ms/step - accuracy: 0.8503 - loss: 0.3614 - val_accuracy: 0.8687 - val_loss: 0.3263\n",
      "Epoch 150/200\n",
      "225/225 - 1s - 5ms/step - accuracy: 0.8524 - loss: 0.3595 - val_accuracy: 0.8687 - val_loss: 0.3270\n",
      "Epoch 151/200\n",
      "225/225 - 1s - 3ms/step - accuracy: 0.8508 - loss: 0.3613 - val_accuracy: 0.8675 - val_loss: 0.3276\n",
      "Epoch 152/200\n",
      "225/225 - 1s - 4ms/step - accuracy: 0.8496 - loss: 0.3643 - val_accuracy: 0.8712 - val_loss: 0.3244\n",
      "Epoch 153/200\n",
      "225/225 - 1s - 4ms/step - accuracy: 0.8543 - loss: 0.3621 - val_accuracy: 0.8687 - val_loss: 0.3265\n",
      "Epoch 154/200\n",
      "225/225 - 1s - 3ms/step - accuracy: 0.8510 - loss: 0.3554 - val_accuracy: 0.8675 - val_loss: 0.3263\n",
      "Epoch 155/200\n",
      "225/225 - 1s - 4ms/step - accuracy: 0.8490 - loss: 0.3615 - val_accuracy: 0.8650 - val_loss: 0.3259\n",
      "Epoch 156/200\n",
      "225/225 - 1s - 4ms/step - accuracy: 0.8500 - loss: 0.3599 - val_accuracy: 0.8662 - val_loss: 0.3261\n",
      "Epoch 157/200\n",
      "225/225 - 1s - 4ms/step - accuracy: 0.8528 - loss: 0.3604 - val_accuracy: 0.8675 - val_loss: 0.3247\n",
      "Epoch 158/200\n",
      "225/225 - 1s - 4ms/step - accuracy: 0.8544 - loss: 0.3590 - val_accuracy: 0.8700 - val_loss: 0.3251\n",
      "Epoch 159/200\n",
      "225/225 - 1s - 3ms/step - accuracy: 0.8483 - loss: 0.3641 - val_accuracy: 0.8637 - val_loss: 0.3272\n",
      "Epoch 160/200\n",
      "225/225 - 1s - 4ms/step - accuracy: 0.8514 - loss: 0.3556 - val_accuracy: 0.8675 - val_loss: 0.3237\n",
      "Epoch 161/200\n",
      "225/225 - 1s - 4ms/step - accuracy: 0.8492 - loss: 0.3602 - val_accuracy: 0.8662 - val_loss: 0.3251\n",
      "Epoch 162/200\n",
      "225/225 - 1s - 4ms/step - accuracy: 0.8486 - loss: 0.3618 - val_accuracy: 0.8612 - val_loss: 0.3273\n",
      "Epoch 163/200\n",
      "225/225 - 1s - 3ms/step - accuracy: 0.8504 - loss: 0.3619 - val_accuracy: 0.8700 - val_loss: 0.3264\n",
      "Epoch 164/200\n",
      "225/225 - 1s - 4ms/step - accuracy: 0.8496 - loss: 0.3597 - val_accuracy: 0.8700 - val_loss: 0.3257\n",
      "Epoch 165/200\n",
      "225/225 - 1s - 4ms/step - accuracy: 0.8504 - loss: 0.3624 - val_accuracy: 0.8687 - val_loss: 0.3259\n",
      "Epoch 166/200\n",
      "225/225 - 1s - 4ms/step - accuracy: 0.8474 - loss: 0.3632 - val_accuracy: 0.8700 - val_loss: 0.3247\n",
      "Epoch 167/200\n",
      "225/225 - 1s - 4ms/step - accuracy: 0.8526 - loss: 0.3577 - val_accuracy: 0.8687 - val_loss: 0.3221\n",
      "Epoch 168/200\n",
      "225/225 - 1s - 4ms/step - accuracy: 0.8562 - loss: 0.3572 - val_accuracy: 0.8625 - val_loss: 0.3228\n",
      "Epoch 169/200\n",
      "225/225 - 1s - 3ms/step - accuracy: 0.8519 - loss: 0.3618 - val_accuracy: 0.8687 - val_loss: 0.3239\n",
      "Epoch 170/200\n",
      "225/225 - 1s - 3ms/step - accuracy: 0.8524 - loss: 0.3621 - val_accuracy: 0.8675 - val_loss: 0.3252\n",
      "Epoch 171/200\n",
      "225/225 - 1s - 3ms/step - accuracy: 0.8503 - loss: 0.3620 - val_accuracy: 0.8700 - val_loss: 0.3257\n",
      "Epoch 172/200\n",
      "225/225 - 1s - 3ms/step - accuracy: 0.8514 - loss: 0.3617 - val_accuracy: 0.8712 - val_loss: 0.3237\n",
      "Epoch 173/200\n",
      "225/225 - 1s - 3ms/step - accuracy: 0.8503 - loss: 0.3583 - val_accuracy: 0.8650 - val_loss: 0.3245\n",
      "Epoch 174/200\n",
      "225/225 - 1s - 3ms/step - accuracy: 0.8508 - loss: 0.3590 - val_accuracy: 0.8650 - val_loss: 0.3253\n",
      "Epoch 175/200\n",
      "225/225 - 1s - 3ms/step - accuracy: 0.8481 - loss: 0.3634 - val_accuracy: 0.8662 - val_loss: 0.3245\n",
      "Epoch 176/200\n",
      "225/225 - 1s - 3ms/step - accuracy: 0.8508 - loss: 0.3578 - val_accuracy: 0.8662 - val_loss: 0.3249\n",
      "Epoch 177/200\n",
      "225/225 - 1s - 2ms/step - accuracy: 0.8515 - loss: 0.3622 - val_accuracy: 0.8650 - val_loss: 0.3235\n",
      "Epoch 178/200\n",
      "225/225 - 1s - 3ms/step - accuracy: 0.8525 - loss: 0.3602 - val_accuracy: 0.8700 - val_loss: 0.3249\n",
      "Epoch 179/200\n",
      "225/225 - 1s - 3ms/step - accuracy: 0.8506 - loss: 0.3584 - val_accuracy: 0.8650 - val_loss: 0.3254\n",
      "Epoch 180/200\n",
      "225/225 - 1s - 3ms/step - accuracy: 0.8549 - loss: 0.3557 - val_accuracy: 0.8687 - val_loss: 0.3247\n",
      "Epoch 181/200\n",
      "225/225 - 1s - 3ms/step - accuracy: 0.8497 - loss: 0.3590 - val_accuracy: 0.8687 - val_loss: 0.3252\n",
      "Epoch 182/200\n",
      "225/225 - 1s - 3ms/step - accuracy: 0.8501 - loss: 0.3608 - val_accuracy: 0.8687 - val_loss: 0.3259\n",
      "Epoch 183/200\n",
      "225/225 - 1s - 3ms/step - accuracy: 0.8515 - loss: 0.3613 - val_accuracy: 0.8662 - val_loss: 0.3238\n",
      "Epoch 184/200\n",
      "225/225 - 1s - 4ms/step - accuracy: 0.8501 - loss: 0.3610 - val_accuracy: 0.8700 - val_loss: 0.3255\n",
      "Epoch 185/200\n",
      "225/225 - 1s - 2ms/step - accuracy: 0.8528 - loss: 0.3570 - val_accuracy: 0.8700 - val_loss: 0.3252\n",
      "Epoch 186/200\n",
      "225/225 - 1s - 3ms/step - accuracy: 0.8478 - loss: 0.3636 - val_accuracy: 0.8687 - val_loss: 0.3264\n",
      "Epoch 187/200\n",
      "225/225 - 1s - 3ms/step - accuracy: 0.8528 - loss: 0.3573 - val_accuracy: 0.8700 - val_loss: 0.3243\n",
      "Epoch 188/200\n",
      "225/225 - 1s - 3ms/step - accuracy: 0.8537 - loss: 0.3568 - val_accuracy: 0.8687 - val_loss: 0.3235\n",
      "Epoch 189/200\n",
      "225/225 - 1s - 2ms/step - accuracy: 0.8558 - loss: 0.3570 - val_accuracy: 0.8637 - val_loss: 0.3237\n",
      "Epoch 190/200\n",
      "225/225 - 1s - 3ms/step - accuracy: 0.8544 - loss: 0.3562 - val_accuracy: 0.8687 - val_loss: 0.3260\n",
      "Epoch 191/200\n",
      "225/225 - 1s - 3ms/step - accuracy: 0.8510 - loss: 0.3614 - val_accuracy: 0.8650 - val_loss: 0.3263\n",
      "Epoch 192/200\n",
      "225/225 - 1s - 3ms/step - accuracy: 0.8517 - loss: 0.3596 - val_accuracy: 0.8650 - val_loss: 0.3256\n",
      "Epoch 193/200\n",
      "225/225 - 1s - 3ms/step - accuracy: 0.8544 - loss: 0.3554 - val_accuracy: 0.8662 - val_loss: 0.3250\n",
      "Epoch 194/200\n",
      "225/225 - 1s - 4ms/step - accuracy: 0.8511 - loss: 0.3551 - val_accuracy: 0.8675 - val_loss: 0.3254\n",
      "Epoch 195/200\n",
      "225/225 - 1s - 2ms/step - accuracy: 0.8500 - loss: 0.3612 - val_accuracy: 0.8687 - val_loss: 0.3257\n",
      "Epoch 196/200\n",
      "225/225 - 1s - 3ms/step - accuracy: 0.8546 - loss: 0.3580 - val_accuracy: 0.8675 - val_loss: 0.3256\n",
      "Epoch 197/200\n",
      "225/225 - 1s - 3ms/step - accuracy: 0.8507 - loss: 0.3604 - val_accuracy: 0.8675 - val_loss: 0.3249\n",
      "Epoch 198/200\n",
      "225/225 - 1s - 4ms/step - accuracy: 0.8554 - loss: 0.3565 - val_accuracy: 0.8637 - val_loss: 0.3237\n",
      "Epoch 199/200\n",
      "225/225 - 1s - 3ms/step - accuracy: 0.8537 - loss: 0.3568 - val_accuracy: 0.8675 - val_loss: 0.3244\n",
      "Epoch 200/200\n",
      "225/225 - 1s - 3ms/step - accuracy: 0.8508 - loss: 0.3628 - val_accuracy: 0.8687 - val_loss: 0.3248\n"
     ]
    }
   ],
   "source": [
    "#Fitting the Neural Network\n",
    "history = classifier.fit(X_train, y_train, batch_size = 32, epochs = 200, validation_split = 0.1, verbose = 2)"
   ]
  },
  {
   "cell_type": "code",
   "execution_count": 22,
   "metadata": {
    "colab": {
     "base_uri": "https://localhost:8080/"
    },
    "id": "aq1-eNM2YqL8",
    "outputId": "0fd0fa0a-cf54-4637-f8b6-f15342002a15"
   },
   "outputs": [
    {
     "name": "stdout",
     "output_type": "stream",
     "text": [
      "\u001b[1m63/63\u001b[0m \u001b[32m━━━━━━━━━━━━━━━━━━━━\u001b[0m\u001b[37m\u001b[0m \u001b[1m0s\u001b[0m 2ms/step\n",
      "[[0.22574423]\n",
      " [0.22514695]\n",
      " [0.18809487]\n",
      " [0.08020914]\n",
      " [0.09022094]]\n"
     ]
    }
   ],
   "source": [
    "y_pred = classifier.predict(X_test)\n",
    "print(y_pred[:5])"
   ]
  },
  {
   "cell_type": "code",
   "execution_count": 23,
   "metadata": {
    "colab": {
     "base_uri": "https://localhost:8080/"
    },
    "id": "S8JJz5bLY-7I",
    "outputId": "00827497-0dfb-49c4-d70b-2071d70ae5f0"
   },
   "outputs": [
    {
     "name": "stdout",
     "output_type": "stream",
     "text": [
      "[[0]\n",
      " [0]\n",
      " [0]\n",
      " [0]\n",
      " [0]]\n"
     ]
    }
   ],
   "source": [
    "#Let us use confusion matrix with cutoff value as 0.5\n",
    "y_pred = (y_pred > 0.5).astype(int)\n",
    "print(y_pred[:5])"
   ]
  },
  {
   "cell_type": "code",
   "execution_count": 24,
   "metadata": {
    "colab": {
     "base_uri": "https://localhost:8080/"
    },
    "id": "Bcyv6h2UZPbO",
    "outputId": "6ca6b222-2516-4b03-c081-1ba7feaa6817"
   },
   "outputs": [
    {
     "name": "stdout",
     "output_type": "stream",
     "text": [
      "[[1550   45]\n",
      " [ 229  176]]\n"
     ]
    }
   ],
   "source": [
    "#Making the Matrix\n",
    "from sklearn.metrics import confusion_matrix\n",
    "cm = confusion_matrix(y_test, y_pred)\n",
    "print(cm)"
   ]
  },
  {
   "cell_type": "code",
   "execution_count": 25,
   "metadata": {
    "colab": {
     "base_uri": "https://localhost:8080/"
    },
    "id": "l3weViSLZc1v",
    "outputId": "64895b62-30f8-4e86-e592-d3fae20b2673"
   },
   "outputs": [
    {
     "name": "stdout",
     "output_type": "stream",
     "text": [
      "86.3 % of data was classified correctly\n"
     ]
    }
   ],
   "source": [
    "#Accuracy of our NN\n",
    "print(((cm[0][0] + cm[1][1])* 100) / len(y_test), '% of data was classified correctly')"
   ]
  }
 ],
 "metadata": {
  "colab": {
   "provenance": []
  },
  "kernelspec": {
   "display_name": "Python 3",
   "language": "python",
   "name": "python3"
  },
  "language_info": {
   "codemirror_mode": {
    "name": "ipython",
    "version": 3
   },
   "file_extension": ".py",
   "mimetype": "text/x-python",
   "name": "python",
   "nbconvert_exporter": "python",
   "pygments_lexer": "ipython3",
   "version": "3.13.1"
  }
 },
 "nbformat": 4,
 "nbformat_minor": 1
}
