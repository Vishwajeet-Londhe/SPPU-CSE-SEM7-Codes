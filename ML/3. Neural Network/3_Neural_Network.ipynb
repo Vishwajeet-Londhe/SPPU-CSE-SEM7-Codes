{
 "cells": [
  {
   "cell_type": "code",
   "execution_count": 1,
   "metadata": {
    "id": "atw2Xac9I0xl"
   },
   "outputs": [],
   "source": [
    "import pandas as pd\n",
    "from sklearn.model_selection import train_test_split\n",
    "from sklearn.preprocessing import StandardScaler, OneHotEncoder\n",
    "from sklearn.compose import ColumnTransformer\n",
    "from sklearn.pipeline import Pipeline\n",
    "from sklearn.metrics import confusion_matrix, accuracy_score"
   ]
  },
  {
   "cell_type": "code",
   "execution_count": 3,
   "metadata": {},
   "outputs": [],
   "source": [
    "# pip install tensorflow ignore if already installed"
   ]
  },
  {
   "cell_type": "code",
   "execution_count": 4,
   "metadata": {},
   "outputs": [],
   "source": [
    "from tensorflow.keras.models import Sequential\n",
    "from tensorflow.keras.layers import Dense, Dropout"
   ]
  },
  {
   "cell_type": "code",
   "execution_count": 5,
   "metadata": {
    "colab": {
     "base_uri": "https://localhost:8080/",
     "height": 302
    },
    "id": "NPfi2q75I0xl",
    "outputId": "1f049900-3b13-433a-fa05-c439e3d9c2de"
   },
   "outputs": [],
   "source": [
    "dataset = pd.read_csv('Churn_Modelling.csv', index_col = 'RowNumber')"
   ]
  },
  {
   "cell_type": "code",
   "execution_count": 6,
   "metadata": {},
   "outputs": [
    {
     "data": {
      "text/html": [
       "<div>\n",
       "<style scoped>\n",
       "    .dataframe tbody tr th:only-of-type {\n",
       "        vertical-align: middle;\n",
       "    }\n",
       "\n",
       "    .dataframe tbody tr th {\n",
       "        vertical-align: top;\n",
       "    }\n",
       "\n",
       "    .dataframe thead th {\n",
       "        text-align: right;\n",
       "    }\n",
       "</style>\n",
       "<table border=\"1\" class=\"dataframe\">\n",
       "  <thead>\n",
       "    <tr style=\"text-align: right;\">\n",
       "      <th></th>\n",
       "      <th>CustomerId</th>\n",
       "      <th>Surname</th>\n",
       "      <th>CreditScore</th>\n",
       "      <th>Geography</th>\n",
       "      <th>Gender</th>\n",
       "      <th>Age</th>\n",
       "      <th>Tenure</th>\n",
       "      <th>Balance</th>\n",
       "      <th>NumOfProducts</th>\n",
       "      <th>HasCrCard</th>\n",
       "      <th>IsActiveMember</th>\n",
       "      <th>EstimatedSalary</th>\n",
       "      <th>Exited</th>\n",
       "    </tr>\n",
       "    <tr>\n",
       "      <th>RowNumber</th>\n",
       "      <th></th>\n",
       "      <th></th>\n",
       "      <th></th>\n",
       "      <th></th>\n",
       "      <th></th>\n",
       "      <th></th>\n",
       "      <th></th>\n",
       "      <th></th>\n",
       "      <th></th>\n",
       "      <th></th>\n",
       "      <th></th>\n",
       "      <th></th>\n",
       "      <th></th>\n",
       "    </tr>\n",
       "  </thead>\n",
       "  <tbody>\n",
       "    <tr>\n",
       "      <th>1</th>\n",
       "      <td>15634602</td>\n",
       "      <td>Hargrave</td>\n",
       "      <td>619</td>\n",
       "      <td>France</td>\n",
       "      <td>Female</td>\n",
       "      <td>42</td>\n",
       "      <td>2</td>\n",
       "      <td>0.00</td>\n",
       "      <td>1</td>\n",
       "      <td>1</td>\n",
       "      <td>1</td>\n",
       "      <td>101348.88</td>\n",
       "      <td>1</td>\n",
       "    </tr>\n",
       "    <tr>\n",
       "      <th>2</th>\n",
       "      <td>15647311</td>\n",
       "      <td>Hill</td>\n",
       "      <td>608</td>\n",
       "      <td>Spain</td>\n",
       "      <td>Female</td>\n",
       "      <td>41</td>\n",
       "      <td>1</td>\n",
       "      <td>83807.86</td>\n",
       "      <td>1</td>\n",
       "      <td>0</td>\n",
       "      <td>1</td>\n",
       "      <td>112542.58</td>\n",
       "      <td>0</td>\n",
       "    </tr>\n",
       "    <tr>\n",
       "      <th>3</th>\n",
       "      <td>15619304</td>\n",
       "      <td>Onio</td>\n",
       "      <td>502</td>\n",
       "      <td>France</td>\n",
       "      <td>Female</td>\n",
       "      <td>42</td>\n",
       "      <td>8</td>\n",
       "      <td>159660.80</td>\n",
       "      <td>3</td>\n",
       "      <td>1</td>\n",
       "      <td>0</td>\n",
       "      <td>113931.57</td>\n",
       "      <td>1</td>\n",
       "    </tr>\n",
       "    <tr>\n",
       "      <th>4</th>\n",
       "      <td>15701354</td>\n",
       "      <td>Boni</td>\n",
       "      <td>699</td>\n",
       "      <td>France</td>\n",
       "      <td>Female</td>\n",
       "      <td>39</td>\n",
       "      <td>1</td>\n",
       "      <td>0.00</td>\n",
       "      <td>2</td>\n",
       "      <td>0</td>\n",
       "      <td>0</td>\n",
       "      <td>93826.63</td>\n",
       "      <td>0</td>\n",
       "    </tr>\n",
       "    <tr>\n",
       "      <th>5</th>\n",
       "      <td>15737888</td>\n",
       "      <td>Mitchell</td>\n",
       "      <td>850</td>\n",
       "      <td>Spain</td>\n",
       "      <td>Female</td>\n",
       "      <td>43</td>\n",
       "      <td>2</td>\n",
       "      <td>125510.82</td>\n",
       "      <td>1</td>\n",
       "      <td>1</td>\n",
       "      <td>1</td>\n",
       "      <td>79084.10</td>\n",
       "      <td>0</td>\n",
       "    </tr>\n",
       "  </tbody>\n",
       "</table>\n",
       "</div>"
      ],
      "text/plain": [
       "           CustomerId   Surname  CreditScore Geography  Gender  Age  Tenure  \\\n",
       "RowNumber                                                                     \n",
       "1            15634602  Hargrave          619    France  Female   42       2   \n",
       "2            15647311      Hill          608     Spain  Female   41       1   \n",
       "3            15619304      Onio          502    France  Female   42       8   \n",
       "4            15701354      Boni          699    France  Female   39       1   \n",
       "5            15737888  Mitchell          850     Spain  Female   43       2   \n",
       "\n",
       "             Balance  NumOfProducts  HasCrCard  IsActiveMember  \\\n",
       "RowNumber                                                        \n",
       "1               0.00              1          1               1   \n",
       "2           83807.86              1          0               1   \n",
       "3          159660.80              3          1               0   \n",
       "4               0.00              2          0               0   \n",
       "5          125510.82              1          1               1   \n",
       "\n",
       "           EstimatedSalary  Exited  \n",
       "RowNumber                           \n",
       "1                101348.88       1  \n",
       "2                112542.58       0  \n",
       "3                113931.57       1  \n",
       "4                 93826.63       0  \n",
       "5                 79084.10       0  "
      ]
     },
     "execution_count": 6,
     "metadata": {},
     "output_type": "execute_result"
    }
   ],
   "source": [
    "dataset.head()"
   ]
  },
  {
   "cell_type": "code",
   "execution_count": 10,
   "metadata": {
    "colab": {
     "base_uri": "https://localhost:8080/"
    },
    "id": "jelFHwknI0xm",
    "outputId": "e8e8af69-44e3-4b72-84cf-e15d6b026a5f"
   },
   "outputs": [
    {
     "data": {
      "text/html": [
       "<div>\n",
       "<style scoped>\n",
       "    .dataframe tbody tr th:only-of-type {\n",
       "        vertical-align: middle;\n",
       "    }\n",
       "\n",
       "    .dataframe tbody tr th {\n",
       "        vertical-align: top;\n",
       "    }\n",
       "\n",
       "    .dataframe thead th {\n",
       "        text-align: right;\n",
       "    }\n",
       "</style>\n",
       "<table border=\"1\" class=\"dataframe\">\n",
       "  <thead>\n",
       "    <tr style=\"text-align: right;\">\n",
       "      <th></th>\n",
       "      <th>CreditScore</th>\n",
       "      <th>Geography</th>\n",
       "      <th>Gender</th>\n",
       "      <th>Age</th>\n",
       "      <th>Tenure</th>\n",
       "      <th>Balance</th>\n",
       "      <th>NumOfProducts</th>\n",
       "      <th>HasCrCard</th>\n",
       "      <th>IsActiveMember</th>\n",
       "      <th>EstimatedSalary</th>\n",
       "    </tr>\n",
       "    <tr>\n",
       "      <th>RowNumber</th>\n",
       "      <th></th>\n",
       "      <th></th>\n",
       "      <th></th>\n",
       "      <th></th>\n",
       "      <th></th>\n",
       "      <th></th>\n",
       "      <th></th>\n",
       "      <th></th>\n",
       "      <th></th>\n",
       "      <th></th>\n",
       "    </tr>\n",
       "  </thead>\n",
       "  <tbody>\n",
       "    <tr>\n",
       "      <th>1</th>\n",
       "      <td>619</td>\n",
       "      <td>France</td>\n",
       "      <td>Female</td>\n",
       "      <td>42</td>\n",
       "      <td>2</td>\n",
       "      <td>0.00</td>\n",
       "      <td>1</td>\n",
       "      <td>1</td>\n",
       "      <td>1</td>\n",
       "      <td>101348.88</td>\n",
       "    </tr>\n",
       "    <tr>\n",
       "      <th>2</th>\n",
       "      <td>608</td>\n",
       "      <td>Spain</td>\n",
       "      <td>Female</td>\n",
       "      <td>41</td>\n",
       "      <td>1</td>\n",
       "      <td>83807.86</td>\n",
       "      <td>1</td>\n",
       "      <td>0</td>\n",
       "      <td>1</td>\n",
       "      <td>112542.58</td>\n",
       "    </tr>\n",
       "    <tr>\n",
       "      <th>3</th>\n",
       "      <td>502</td>\n",
       "      <td>France</td>\n",
       "      <td>Female</td>\n",
       "      <td>42</td>\n",
       "      <td>8</td>\n",
       "      <td>159660.80</td>\n",
       "      <td>3</td>\n",
       "      <td>1</td>\n",
       "      <td>0</td>\n",
       "      <td>113931.57</td>\n",
       "    </tr>\n",
       "    <tr>\n",
       "      <th>4</th>\n",
       "      <td>699</td>\n",
       "      <td>France</td>\n",
       "      <td>Female</td>\n",
       "      <td>39</td>\n",
       "      <td>1</td>\n",
       "      <td>0.00</td>\n",
       "      <td>2</td>\n",
       "      <td>0</td>\n",
       "      <td>0</td>\n",
       "      <td>93826.63</td>\n",
       "    </tr>\n",
       "    <tr>\n",
       "      <th>5</th>\n",
       "      <td>850</td>\n",
       "      <td>Spain</td>\n",
       "      <td>Female</td>\n",
       "      <td>43</td>\n",
       "      <td>2</td>\n",
       "      <td>125510.82</td>\n",
       "      <td>1</td>\n",
       "      <td>1</td>\n",
       "      <td>1</td>\n",
       "      <td>79084.10</td>\n",
       "    </tr>\n",
       "    <tr>\n",
       "      <th>...</th>\n",
       "      <td>...</td>\n",
       "      <td>...</td>\n",
       "      <td>...</td>\n",
       "      <td>...</td>\n",
       "      <td>...</td>\n",
       "      <td>...</td>\n",
       "      <td>...</td>\n",
       "      <td>...</td>\n",
       "      <td>...</td>\n",
       "      <td>...</td>\n",
       "    </tr>\n",
       "    <tr>\n",
       "      <th>9996</th>\n",
       "      <td>771</td>\n",
       "      <td>France</td>\n",
       "      <td>Male</td>\n",
       "      <td>39</td>\n",
       "      <td>5</td>\n",
       "      <td>0.00</td>\n",
       "      <td>2</td>\n",
       "      <td>1</td>\n",
       "      <td>0</td>\n",
       "      <td>96270.64</td>\n",
       "    </tr>\n",
       "    <tr>\n",
       "      <th>9997</th>\n",
       "      <td>516</td>\n",
       "      <td>France</td>\n",
       "      <td>Male</td>\n",
       "      <td>35</td>\n",
       "      <td>10</td>\n",
       "      <td>57369.61</td>\n",
       "      <td>1</td>\n",
       "      <td>1</td>\n",
       "      <td>1</td>\n",
       "      <td>101699.77</td>\n",
       "    </tr>\n",
       "    <tr>\n",
       "      <th>9998</th>\n",
       "      <td>709</td>\n",
       "      <td>France</td>\n",
       "      <td>Female</td>\n",
       "      <td>36</td>\n",
       "      <td>7</td>\n",
       "      <td>0.00</td>\n",
       "      <td>1</td>\n",
       "      <td>0</td>\n",
       "      <td>1</td>\n",
       "      <td>42085.58</td>\n",
       "    </tr>\n",
       "    <tr>\n",
       "      <th>9999</th>\n",
       "      <td>772</td>\n",
       "      <td>Germany</td>\n",
       "      <td>Male</td>\n",
       "      <td>42</td>\n",
       "      <td>3</td>\n",
       "      <td>75075.31</td>\n",
       "      <td>2</td>\n",
       "      <td>1</td>\n",
       "      <td>0</td>\n",
       "      <td>92888.52</td>\n",
       "    </tr>\n",
       "    <tr>\n",
       "      <th>10000</th>\n",
       "      <td>792</td>\n",
       "      <td>France</td>\n",
       "      <td>Female</td>\n",
       "      <td>28</td>\n",
       "      <td>4</td>\n",
       "      <td>130142.79</td>\n",
       "      <td>1</td>\n",
       "      <td>1</td>\n",
       "      <td>0</td>\n",
       "      <td>38190.78</td>\n",
       "    </tr>\n",
       "  </tbody>\n",
       "</table>\n",
       "<p>10000 rows × 10 columns</p>\n",
       "</div>"
      ],
      "text/plain": [
       "           CreditScore Geography  Gender  Age  Tenure    Balance  \\\n",
       "RowNumber                                                          \n",
       "1                  619    France  Female   42       2       0.00   \n",
       "2                  608     Spain  Female   41       1   83807.86   \n",
       "3                  502    France  Female   42       8  159660.80   \n",
       "4                  699    France  Female   39       1       0.00   \n",
       "5                  850     Spain  Female   43       2  125510.82   \n",
       "...                ...       ...     ...  ...     ...        ...   \n",
       "9996               771    France    Male   39       5       0.00   \n",
       "9997               516    France    Male   35      10   57369.61   \n",
       "9998               709    France  Female   36       7       0.00   \n",
       "9999               772   Germany    Male   42       3   75075.31   \n",
       "10000              792    France  Female   28       4  130142.79   \n",
       "\n",
       "           NumOfProducts  HasCrCard  IsActiveMember  EstimatedSalary  \n",
       "RowNumber                                                             \n",
       "1                      1          1               1        101348.88  \n",
       "2                      1          0               1        112542.58  \n",
       "3                      3          1               0        113931.57  \n",
       "4                      2          0               0         93826.63  \n",
       "5                      1          1               1         79084.10  \n",
       "...                  ...        ...             ...              ...  \n",
       "9996                   2          1               0         96270.64  \n",
       "9997                   1          1               1        101699.77  \n",
       "9998                   1          0               1         42085.58  \n",
       "9999                   2          1               0         92888.52  \n",
       "10000                  1          1               0         38190.78  \n",
       "\n",
       "[10000 rows x 10 columns]"
      ]
     },
     "execution_count": 10,
     "metadata": {},
     "output_type": "execute_result"
    }
   ],
   "source": [
    "# Features and target\n",
    "X = dataset.iloc[:, 2:12]\n",
    "X  # drop CustomerId and Surname"
   ]
  },
  {
   "cell_type": "code",
   "execution_count": 12,
   "metadata": {
    "id": "_EnXaCYmI0xn"
   },
   "outputs": [
    {
     "data": {
      "text/plain": [
       "array([1, 0, 1, ..., 1, 1, 0], shape=(10000,))"
      ]
     },
     "execution_count": 12,
     "metadata": {},
     "output_type": "execute_result"
    }
   ],
   "source": [
    "# Features and target\n",
    "Y = dataset.iloc[:, 12].values  # Churn column\n",
    "Y"
   ]
  },
  {
   "cell_type": "markdown",
   "metadata": {
    "id": "DKwFc-HWI0xo"
   },
   "source": [
    "We are treating countries with ordinal values(0 < 1 < 2) but they are incomparable.\n",
    "To solve this we can use one hot encoding.\n",
    "We will perform some standardization "
   ]
  },
  {
   "cell_type": "code",
   "execution_count": 13,
   "metadata": {
    "id": "v-bI9UNiI0xo"
   },
   "outputs": [],
   "source": [
    "# Pipeline: One-hot encode categorical and scale\n",
    "pipeline = Pipeline([\n",
    "    ('preprocess', ColumnTransformer(\n",
    "        transformers=[\n",
    "            ('gender', OneHotEncoder(drop='first'), ['Gender']),\n",
    "            ('geo', OneHotEncoder(drop='first'), ['Geography'])\n",
    "        ],\n",
    "        remainder='passthrough'\n",
    "    )),\n",
    "    ('scaler', StandardScaler())\n",
    "])"
   ]
  },
  {
   "cell_type": "code",
   "execution_count": 14,
   "metadata": {
    "id": "7_TO_-fQI0xp"
   },
   "outputs": [],
   "source": [
    "#Standardize the features\n",
    "X = pipeline.fit_transform(X)"
   ]
  },
  {
   "cell_type": "code",
   "execution_count": 15,
   "metadata": {
    "id": "OJ7VUetiI0xq"
   },
   "outputs": [],
   "source": [
    "#Spilt the data\n",
    "X_train, X_test, y_train, y_test = train_test_split(X, Y, test_size = 0.2, random_state = 0)"
   ]
  },
  {
   "cell_type": "code",
   "execution_count": 16,
   "metadata": {
    "id": "VYIsyqOUI0xs"
   },
   "outputs": [
    {
     "name": "stderr",
     "output_type": "stream",
     "text": [
      "C:\\Users\\vishw\\AppData\\Roaming\\Python\\Python313\\site-packages\\keras\\src\\layers\\core\\dense.py:93: UserWarning: Do not pass an `input_shape`/`input_dim` argument to a layer. When using Sequential models, prefer using an `Input(shape)` object as the first layer in the model instead.\n",
      "  super().__init__(activity_regularizer=activity_regularizer, **kwargs)\n"
     ]
    }
   ],
   "source": [
    "# Build ANN\n",
    "classifier = Sequential()\n",
    "classifier.add(Dense(6, activation='relu', input_shape=(X_train.shape[1],)))\n",
    "classifier.add(Dropout(0.1))\n",
    "classifier.add(Dense(6, activation='relu'))\n",
    "classifier.add(Dropout(0.1))\n",
    "classifier.add(Dense(1, activation='sigmoid'))"
   ]
  },
  {
   "cell_type": "code",
   "execution_count": 18,
   "metadata": {
    "id": "i3nH8oOhJcp8"
   },
   "outputs": [
    {
     "name": "stdout",
     "output_type": "stream",
     "text": [
      "Epoch 1/100\n",
      "225/225 - 3s - 13ms/step - accuracy: 0.7376 - loss: 0.5860 - val_accuracy: 0.7950 - val_loss: 0.4805\n",
      "Epoch 2/100\n",
      "225/225 - 1s - 3ms/step - accuracy: 0.7969 - loss: 0.4791 - val_accuracy: 0.7962 - val_loss: 0.4492\n",
      "Epoch 3/100\n",
      "225/225 - 1s - 4ms/step - accuracy: 0.7997 - loss: 0.4619 - val_accuracy: 0.8000 - val_loss: 0.4358\n",
      "Epoch 4/100\n",
      "225/225 - 1s - 3ms/step - accuracy: 0.8011 - loss: 0.4548 - val_accuracy: 0.8012 - val_loss: 0.4274\n",
      "Epoch 5/100\n",
      "225/225 - 1s - 3ms/step - accuracy: 0.8039 - loss: 0.4429 - val_accuracy: 0.7987 - val_loss: 0.4211\n",
      "Epoch 6/100\n",
      "225/225 - 1s - 3ms/step - accuracy: 0.8036 - loss: 0.4396 - val_accuracy: 0.8025 - val_loss: 0.4170\n",
      "Epoch 7/100\n",
      "225/225 - 1s - 3ms/step - accuracy: 0.8053 - loss: 0.4388 - val_accuracy: 0.8050 - val_loss: 0.4138\n",
      "Epoch 8/100\n",
      "225/225 - 1s - 3ms/step - accuracy: 0.8049 - loss: 0.4343 - val_accuracy: 0.8087 - val_loss: 0.4110\n",
      "Epoch 9/100\n",
      "225/225 - 1s - 3ms/step - accuracy: 0.8082 - loss: 0.4308 - val_accuracy: 0.8100 - val_loss: 0.4072\n",
      "Epoch 10/100\n",
      "225/225 - 1s - 3ms/step - accuracy: 0.8058 - loss: 0.4287 - val_accuracy: 0.8150 - val_loss: 0.4036\n",
      "Epoch 11/100\n",
      "225/225 - 1s - 3ms/step - accuracy: 0.8081 - loss: 0.4291 - val_accuracy: 0.8138 - val_loss: 0.4001\n",
      "Epoch 12/100\n",
      "225/225 - 1s - 3ms/step - accuracy: 0.8110 - loss: 0.4197 - val_accuracy: 0.8100 - val_loss: 0.3967\n",
      "Epoch 13/100\n",
      "225/225 - 1s - 3ms/step - accuracy: 0.8140 - loss: 0.4167 - val_accuracy: 0.8125 - val_loss: 0.3931\n",
      "Epoch 14/100\n",
      "225/225 - 1s - 3ms/step - accuracy: 0.8158 - loss: 0.4138 - val_accuracy: 0.8100 - val_loss: 0.3893\n",
      "Epoch 15/100\n",
      "225/225 - 1s - 3ms/step - accuracy: 0.8188 - loss: 0.4087 - val_accuracy: 0.8050 - val_loss: 0.3866\n",
      "Epoch 16/100\n",
      "225/225 - 1s - 3ms/step - accuracy: 0.8157 - loss: 0.4071 - val_accuracy: 0.8062 - val_loss: 0.3847\n",
      "Epoch 17/100\n",
      "225/225 - 1s - 3ms/step - accuracy: 0.8160 - loss: 0.4031 - val_accuracy: 0.8075 - val_loss: 0.3818\n",
      "Epoch 18/100\n",
      "225/225 - 1s - 3ms/step - accuracy: 0.8196 - loss: 0.4023 - val_accuracy: 0.8087 - val_loss: 0.3797\n",
      "Epoch 19/100\n",
      "225/225 - 1s - 3ms/step - accuracy: 0.8181 - loss: 0.4024 - val_accuracy: 0.8138 - val_loss: 0.3764\n",
      "Epoch 20/100\n",
      "225/225 - 1s - 6ms/step - accuracy: 0.8215 - loss: 0.3960 - val_accuracy: 0.8112 - val_loss: 0.3741\n",
      "Epoch 21/100\n",
      "225/225 - 1s - 3ms/step - accuracy: 0.8203 - loss: 0.3952 - val_accuracy: 0.8100 - val_loss: 0.3723\n",
      "Epoch 22/100\n",
      "225/225 - 1s - 4ms/step - accuracy: 0.8194 - loss: 0.3945 - val_accuracy: 0.8087 - val_loss: 0.3709\n",
      "Epoch 23/100\n",
      "225/225 - 1s - 3ms/step - accuracy: 0.8183 - loss: 0.3952 - val_accuracy: 0.8087 - val_loss: 0.3693\n",
      "Epoch 24/100\n",
      "225/225 - 1s - 3ms/step - accuracy: 0.8203 - loss: 0.3938 - val_accuracy: 0.8075 - val_loss: 0.3674\n",
      "Epoch 25/100\n",
      "225/225 - 1s - 3ms/step - accuracy: 0.8201 - loss: 0.3891 - val_accuracy: 0.8087 - val_loss: 0.3649\n",
      "Epoch 26/100\n",
      "225/225 - 1s - 3ms/step - accuracy: 0.8208 - loss: 0.3884 - val_accuracy: 0.8112 - val_loss: 0.3635\n",
      "Epoch 27/100\n",
      "225/225 - 1s - 3ms/step - accuracy: 0.8189 - loss: 0.3886 - val_accuracy: 0.8100 - val_loss: 0.3620\n",
      "Epoch 28/100\n",
      "225/225 - 1s - 3ms/step - accuracy: 0.8186 - loss: 0.3883 - val_accuracy: 0.8112 - val_loss: 0.3612\n",
      "Epoch 29/100\n",
      "225/225 - 1s - 3ms/step - accuracy: 0.8206 - loss: 0.3914 - val_accuracy: 0.8112 - val_loss: 0.3596\n",
      "Epoch 30/100\n",
      "225/225 - 1s - 3ms/step - accuracy: 0.8190 - loss: 0.3877 - val_accuracy: 0.8125 - val_loss: 0.3582\n",
      "Epoch 31/100\n",
      "225/225 - 1s - 3ms/step - accuracy: 0.8196 - loss: 0.3852 - val_accuracy: 0.8112 - val_loss: 0.3572\n",
      "Epoch 32/100\n",
      "225/225 - 1s - 3ms/step - accuracy: 0.8196 - loss: 0.3853 - val_accuracy: 0.8112 - val_loss: 0.3566\n",
      "Epoch 33/100\n",
      "225/225 - 1s - 3ms/step - accuracy: 0.8206 - loss: 0.3824 - val_accuracy: 0.8112 - val_loss: 0.3548\n",
      "Epoch 34/100\n",
      "225/225 - 1s - 3ms/step - accuracy: 0.8193 - loss: 0.3843 - val_accuracy: 0.8125 - val_loss: 0.3537\n",
      "Epoch 35/100\n",
      "225/225 - 1s - 3ms/step - accuracy: 0.8204 - loss: 0.3803 - val_accuracy: 0.8100 - val_loss: 0.3524\n",
      "Epoch 36/100\n",
      "225/225 - 1s - 3ms/step - accuracy: 0.8199 - loss: 0.3818 - val_accuracy: 0.8125 - val_loss: 0.3516\n",
      "Epoch 37/100\n",
      "225/225 - 1s - 3ms/step - accuracy: 0.8201 - loss: 0.3779 - val_accuracy: 0.8475 - val_loss: 0.3513\n",
      "Epoch 38/100\n",
      "225/225 - 1s - 3ms/step - accuracy: 0.8326 - loss: 0.3773 - val_accuracy: 0.8487 - val_loss: 0.3500\n",
      "Epoch 39/100\n",
      "225/225 - 1s - 3ms/step - accuracy: 0.8479 - loss: 0.3785 - val_accuracy: 0.8475 - val_loss: 0.3487\n",
      "Epoch 40/100\n",
      "225/225 - 1s - 4ms/step - accuracy: 0.8462 - loss: 0.3771 - val_accuracy: 0.8562 - val_loss: 0.3486\n",
      "Epoch 41/100\n",
      "225/225 - 1s - 6ms/step - accuracy: 0.8451 - loss: 0.3808 - val_accuracy: 0.8537 - val_loss: 0.3489\n",
      "Epoch 42/100\n",
      "225/225 - 1s - 7ms/step - accuracy: 0.8468 - loss: 0.3801 - val_accuracy: 0.8537 - val_loss: 0.3472\n",
      "Epoch 43/100\n",
      "225/225 - 1s - 6ms/step - accuracy: 0.8475 - loss: 0.3790 - val_accuracy: 0.8550 - val_loss: 0.3472\n",
      "Epoch 44/100\n",
      "225/225 - 1s - 6ms/step - accuracy: 0.8489 - loss: 0.3800 - val_accuracy: 0.8575 - val_loss: 0.3476\n",
      "Epoch 45/100\n",
      "225/225 - 1s - 6ms/step - accuracy: 0.8492 - loss: 0.3794 - val_accuracy: 0.8512 - val_loss: 0.3467\n",
      "Epoch 46/100\n",
      "225/225 - 1s - 6ms/step - accuracy: 0.8483 - loss: 0.3768 - val_accuracy: 0.8575 - val_loss: 0.3465\n",
      "Epoch 47/100\n",
      "225/225 - 1s - 6ms/step - accuracy: 0.8494 - loss: 0.3855 - val_accuracy: 0.8575 - val_loss: 0.3460\n",
      "Epoch 48/100\n",
      "225/225 - 1s - 7ms/step - accuracy: 0.8476 - loss: 0.3807 - val_accuracy: 0.8575 - val_loss: 0.3456\n",
      "Epoch 49/100\n",
      "225/225 - 1s - 6ms/step - accuracy: 0.8489 - loss: 0.3796 - val_accuracy: 0.8562 - val_loss: 0.3452\n",
      "Epoch 50/100\n",
      "225/225 - 1s - 6ms/step - accuracy: 0.8493 - loss: 0.3768 - val_accuracy: 0.8537 - val_loss: 0.3447\n",
      "Epoch 51/100\n",
      "225/225 - 1s - 5ms/step - accuracy: 0.8478 - loss: 0.3780 - val_accuracy: 0.8600 - val_loss: 0.3461\n",
      "Epoch 52/100\n",
      "225/225 - 1s - 3ms/step - accuracy: 0.8490 - loss: 0.3771 - val_accuracy: 0.8575 - val_loss: 0.3442\n",
      "Epoch 53/100\n",
      "225/225 - 1s - 3ms/step - accuracy: 0.8474 - loss: 0.3767 - val_accuracy: 0.8550 - val_loss: 0.3435\n",
      "Epoch 54/100\n",
      "225/225 - 1s - 4ms/step - accuracy: 0.8493 - loss: 0.3771 - val_accuracy: 0.8625 - val_loss: 0.3438\n",
      "Epoch 55/100\n",
      "225/225 - 1s - 3ms/step - accuracy: 0.8489 - loss: 0.3774 - val_accuracy: 0.8587 - val_loss: 0.3430\n",
      "Epoch 56/100\n",
      "225/225 - 1s - 3ms/step - accuracy: 0.8497 - loss: 0.3814 - val_accuracy: 0.8600 - val_loss: 0.3444\n",
      "Epoch 57/100\n",
      "225/225 - 1s - 4ms/step - accuracy: 0.8493 - loss: 0.3787 - val_accuracy: 0.8612 - val_loss: 0.3431\n",
      "Epoch 58/100\n",
      "225/225 - 1s - 3ms/step - accuracy: 0.8499 - loss: 0.3732 - val_accuracy: 0.8575 - val_loss: 0.3425\n",
      "Epoch 59/100\n",
      "225/225 - 1s - 3ms/step - accuracy: 0.8535 - loss: 0.3791 - val_accuracy: 0.8575 - val_loss: 0.3426\n",
      "Epoch 60/100\n",
      "225/225 - 1s - 3ms/step - accuracy: 0.8494 - loss: 0.3774 - val_accuracy: 0.8637 - val_loss: 0.3428\n",
      "Epoch 61/100\n",
      "225/225 - 1s - 3ms/step - accuracy: 0.8524 - loss: 0.3769 - val_accuracy: 0.8612 - val_loss: 0.3420\n",
      "Epoch 62/100\n",
      "225/225 - 1s - 3ms/step - accuracy: 0.8486 - loss: 0.3801 - val_accuracy: 0.8612 - val_loss: 0.3424\n",
      "Epoch 63/100\n",
      "225/225 - 1s - 3ms/step - accuracy: 0.8507 - loss: 0.3811 - val_accuracy: 0.8600 - val_loss: 0.3435\n",
      "Epoch 64/100\n",
      "225/225 - 1s - 3ms/step - accuracy: 0.8537 - loss: 0.3798 - val_accuracy: 0.8562 - val_loss: 0.3423\n",
      "Epoch 65/100\n",
      "225/225 - 1s - 3ms/step - accuracy: 0.8515 - loss: 0.3744 - val_accuracy: 0.8587 - val_loss: 0.3427\n",
      "Epoch 66/100\n",
      "225/225 - 1s - 3ms/step - accuracy: 0.8511 - loss: 0.3787 - val_accuracy: 0.8600 - val_loss: 0.3427\n",
      "Epoch 67/100\n",
      "225/225 - 1s - 3ms/step - accuracy: 0.8499 - loss: 0.3780 - val_accuracy: 0.8587 - val_loss: 0.3428\n",
      "Epoch 68/100\n",
      "225/225 - 1s - 3ms/step - accuracy: 0.8510 - loss: 0.3767 - val_accuracy: 0.8612 - val_loss: 0.3424\n",
      "Epoch 69/100\n",
      "225/225 - 1s - 3ms/step - accuracy: 0.8472 - loss: 0.3807 - val_accuracy: 0.8600 - val_loss: 0.3427\n",
      "Epoch 70/100\n",
      "225/225 - 1s - 3ms/step - accuracy: 0.8494 - loss: 0.3739 - val_accuracy: 0.8600 - val_loss: 0.3421\n",
      "Epoch 71/100\n",
      "225/225 - 1s - 3ms/step - accuracy: 0.8490 - loss: 0.3784 - val_accuracy: 0.8600 - val_loss: 0.3424\n",
      "Epoch 72/100\n",
      "225/225 - 1s - 3ms/step - accuracy: 0.8508 - loss: 0.3779 - val_accuracy: 0.8600 - val_loss: 0.3415\n",
      "Epoch 73/100\n",
      "225/225 - 1s - 3ms/step - accuracy: 0.8496 - loss: 0.3802 - val_accuracy: 0.8587 - val_loss: 0.3425\n",
      "Epoch 74/100\n",
      "225/225 - 1s - 3ms/step - accuracy: 0.8506 - loss: 0.3785 - val_accuracy: 0.8587 - val_loss: 0.3418\n",
      "Epoch 75/100\n",
      "225/225 - 1s - 3ms/step - accuracy: 0.8504 - loss: 0.3757 - val_accuracy: 0.8600 - val_loss: 0.3409\n",
      "Epoch 76/100\n",
      "225/225 - 1s - 3ms/step - accuracy: 0.8490 - loss: 0.3778 - val_accuracy: 0.8600 - val_loss: 0.3404\n",
      "Epoch 77/100\n",
      "225/225 - 1s - 3ms/step - accuracy: 0.8531 - loss: 0.3749 - val_accuracy: 0.8637 - val_loss: 0.3399\n",
      "Epoch 78/100\n",
      "225/225 - 1s - 3ms/step - accuracy: 0.8472 - loss: 0.3771 - val_accuracy: 0.8612 - val_loss: 0.3410\n",
      "Epoch 79/100\n",
      "225/225 - 1s - 3ms/step - accuracy: 0.8471 - loss: 0.3778 - val_accuracy: 0.8600 - val_loss: 0.3411\n",
      "Epoch 80/100\n",
      "225/225 - 1s - 3ms/step - accuracy: 0.8515 - loss: 0.3762 - val_accuracy: 0.8587 - val_loss: 0.3404\n",
      "Epoch 81/100\n",
      "225/225 - 1s - 3ms/step - accuracy: 0.8535 - loss: 0.3756 - val_accuracy: 0.8600 - val_loss: 0.3401\n",
      "Epoch 82/100\n",
      "225/225 - 1s - 3ms/step - accuracy: 0.8479 - loss: 0.3772 - val_accuracy: 0.8600 - val_loss: 0.3398\n",
      "Epoch 83/100\n",
      "225/225 - 1s - 3ms/step - accuracy: 0.8525 - loss: 0.3785 - val_accuracy: 0.8587 - val_loss: 0.3400\n",
      "Epoch 84/100\n",
      "225/225 - 1s - 3ms/step - accuracy: 0.8494 - loss: 0.3747 - val_accuracy: 0.8575 - val_loss: 0.3420\n",
      "Epoch 85/100\n",
      "225/225 - 1s - 3ms/step - accuracy: 0.8508 - loss: 0.3796 - val_accuracy: 0.8600 - val_loss: 0.3401\n",
      "Epoch 86/100\n",
      "225/225 - 1s - 3ms/step - accuracy: 0.8490 - loss: 0.3788 - val_accuracy: 0.8600 - val_loss: 0.3400\n",
      "Epoch 87/100\n",
      "225/225 - 1s - 3ms/step - accuracy: 0.8489 - loss: 0.3773 - val_accuracy: 0.8612 - val_loss: 0.3411\n",
      "Epoch 88/100\n",
      "225/225 - 1s - 3ms/step - accuracy: 0.8512 - loss: 0.3753 - val_accuracy: 0.8587 - val_loss: 0.3403\n",
      "Epoch 89/100\n",
      "225/225 - 1s - 3ms/step - accuracy: 0.8485 - loss: 0.3780 - val_accuracy: 0.8612 - val_loss: 0.3410\n",
      "Epoch 90/100\n",
      "225/225 - 1s - 3ms/step - accuracy: 0.8508 - loss: 0.3762 - val_accuracy: 0.8575 - val_loss: 0.3398\n",
      "Epoch 91/100\n",
      "225/225 - 1s - 3ms/step - accuracy: 0.8510 - loss: 0.3771 - val_accuracy: 0.8600 - val_loss: 0.3403\n",
      "Epoch 92/100\n",
      "225/225 - 1s - 3ms/step - accuracy: 0.8504 - loss: 0.3724 - val_accuracy: 0.8612 - val_loss: 0.3402\n",
      "Epoch 93/100\n",
      "225/225 - 1s - 3ms/step - accuracy: 0.8503 - loss: 0.3770 - val_accuracy: 0.8625 - val_loss: 0.3400\n",
      "Epoch 94/100\n",
      "225/225 - 1s - 3ms/step - accuracy: 0.8508 - loss: 0.3744 - val_accuracy: 0.8637 - val_loss: 0.3401\n",
      "Epoch 95/100\n",
      "225/225 - 1s - 3ms/step - accuracy: 0.8529 - loss: 0.3772 - val_accuracy: 0.8650 - val_loss: 0.3404\n",
      "Epoch 96/100\n",
      "225/225 - 1s - 3ms/step - accuracy: 0.8511 - loss: 0.3750 - val_accuracy: 0.8600 - val_loss: 0.3393\n",
      "Epoch 97/100\n",
      "225/225 - 1s - 3ms/step - accuracy: 0.8468 - loss: 0.3778 - val_accuracy: 0.8637 - val_loss: 0.3393\n",
      "Epoch 98/100\n",
      "225/225 - 1s - 3ms/step - accuracy: 0.8497 - loss: 0.3785 - val_accuracy: 0.8625 - val_loss: 0.3397\n",
      "Epoch 99/100\n",
      "225/225 - 1s - 3ms/step - accuracy: 0.8508 - loss: 0.3777 - val_accuracy: 0.8637 - val_loss: 0.3402\n",
      "Epoch 100/100\n",
      "225/225 - 1s - 3ms/step - accuracy: 0.8489 - loss: 0.3810 - val_accuracy: 0.8587 - val_loss: 0.3390\n"
     ]
    }
   ],
   "source": [
    "# Train ANN\n",
    "history = classifier.fit(X_train, y_train, batch_size=32, epochs=100, validation_split=0.1, verbose=2)"
   ]
  },
  {
   "cell_type": "code",
   "execution_count": 19,
   "metadata": {
    "id": "gULE3c-YPvsI"
   },
   "outputs": [
    {
     "name": "stdout",
     "output_type": "stream",
     "text": [
      "\u001b[1m63/63\u001b[0m \u001b[32m━━━━━━━━━━━━━━━━━━━━\u001b[0m\u001b[37m\u001b[0m \u001b[1m0s\u001b[0m 2ms/step\n"
     ]
    }
   ],
   "source": [
    "# Predict\n",
    "y_pred = (classifier.predict(X_test) > 0.5).astype(int)"
   ]
  },
  {
   "cell_type": "code",
   "execution_count": 20,
   "metadata": {
    "colab": {
     "base_uri": "https://localhost:8080/"
    },
    "id": "aq1-eNM2YqL8",
    "outputId": "0fd0fa0a-cf54-4637-f8b6-f15342002a15"
   },
   "outputs": [
    {
     "name": "stdout",
     "output_type": "stream",
     "text": [
      "\u001b[1m63/63\u001b[0m \u001b[32m━━━━━━━━━━━━━━━━━━━━\u001b[0m\u001b[37m\u001b[0m \u001b[1m0s\u001b[0m 2ms/step\n",
      "[[0.32752857]\n",
      " [0.3487643 ]\n",
      " [0.22522898]\n",
      " [0.08598081]\n",
      " [0.07558867]]\n"
     ]
    }
   ],
   "source": [
    "y_pred = classifier.predict(X_test)\n",
    "print(y_pred[:5])"
   ]
  },
  {
   "cell_type": "code",
   "execution_count": 21,
   "metadata": {
    "colab": {
     "base_uri": "https://localhost:8080/"
    },
    "id": "S8JJz5bLY-7I",
    "outputId": "00827497-0dfb-49c4-d70b-2071d70ae5f0"
   },
   "outputs": [
    {
     "name": "stdout",
     "output_type": "stream",
     "text": [
      "[[0]\n",
      " [0]\n",
      " [0]\n",
      " [0]\n",
      " [0]]\n"
     ]
    }
   ],
   "source": [
    "#Let us use confusion matrix with cutoff value as 0.5\n",
    "y_pred = (y_pred > 0.5).astype(int)\n",
    "print(y_pred[:5])"
   ]
  },
  {
   "cell_type": "code",
   "execution_count": 22,
   "metadata": {
    "colab": {
     "base_uri": "https://localhost:8080/"
    },
    "id": "Bcyv6h2UZPbO",
    "outputId": "6ca6b222-2516-4b03-c081-1ba7feaa6817"
   },
   "outputs": [
    {
     "name": "stdout",
     "output_type": "stream",
     "text": [
      "[[1545   50]\n",
      " [ 220  185]]\n"
     ]
    }
   ],
   "source": [
    "#Making the Matrix\n",
    "from sklearn.metrics import confusion_matrix\n",
    "cm = confusion_matrix(y_test, y_pred)\n",
    "print(cm)"
   ]
  },
  {
   "cell_type": "code",
   "execution_count": 23,
   "metadata": {
    "colab": {
     "base_uri": "https://localhost:8080/"
    },
    "id": "l3weViSLZc1v",
    "outputId": "64895b62-30f8-4e86-e592-d3fae20b2673"
   },
   "outputs": [
    {
     "name": "stdout",
     "output_type": "stream",
     "text": [
      "86.5 % of data was classified correctly\n"
     ]
    }
   ],
   "source": [
    "#Accuracy of our NN\n",
    "print(((cm[0][0] + cm[1][1])* 100) / len(y_test), '% of data was classified correctly')"
   ]
  }
 ],
 "metadata": {
  "colab": {
   "provenance": []
  },
  "kernelspec": {
   "display_name": "Python 3",
   "language": "python",
   "name": "python3"
  },
  "language_info": {
   "codemirror_mode": {
    "name": "ipython",
    "version": 3
   },
   "file_extension": ".py",
   "mimetype": "text/x-python",
   "name": "python",
   "nbconvert_exporter": "python",
   "pygments_lexer": "ipython3",
   "version": "3.13.1"
  }
 },
 "nbformat": 4,
 "nbformat_minor": 1
}
